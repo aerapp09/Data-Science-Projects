{
 "cells": [
  {
   "cell_type": "code",
   "execution_count": 1,
   "id": "fda0294c",
   "metadata": {},
   "outputs": [],
   "source": [
    "import pandas as pd\n",
    "import numpy as np\n",
    "\n",
    "import matplotlib.pyplot as plt\n",
    "from scipy import stats\n",
    "import researchpy as rp\n",
    "\n",
    "from statsmodels.formula.api import ols"
   ]
  },
  {
   "cell_type": "code",
   "execution_count": 3,
   "id": "53b3a894",
   "metadata": {},
   "outputs": [],
   "source": [
    "bike_data = pd.read_csv('datasets/bike_sharing_data_processed.csv')"
   ]
  },
  {
   "cell_type": "code",
   "execution_count": 4,
   "id": "07bcda3b",
   "metadata": {},
   "outputs": [
    {
     "data": {
      "text/html": [
       "<div>\n",
       "<style scoped>\n",
       "    .dataframe tbody tr th:only-of-type {\n",
       "        vertical-align: middle;\n",
       "    }\n",
       "\n",
       "    .dataframe tbody tr th {\n",
       "        vertical-align: top;\n",
       "    }\n",
       "\n",
       "    .dataframe thead th {\n",
       "        text-align: right;\n",
       "    }\n",
       "</style>\n",
       "<table border=\"1\" class=\"dataframe\">\n",
       "  <thead>\n",
       "    <tr style=\"text-align: right;\">\n",
       "      <th></th>\n",
       "      <th>season</th>\n",
       "      <th>mnth</th>\n",
       "      <th>holiday</th>\n",
       "      <th>workingday</th>\n",
       "      <th>weathersit</th>\n",
       "      <th>temp</th>\n",
       "      <th>cnt</th>\n",
       "    </tr>\n",
       "  </thead>\n",
       "  <tbody>\n",
       "    <tr>\n",
       "      <th>0</th>\n",
       "      <td>1</td>\n",
       "      <td>1</td>\n",
       "      <td>0</td>\n",
       "      <td>0</td>\n",
       "      <td>2</td>\n",
       "      <td>0.344167</td>\n",
       "      <td>985</td>\n",
       "    </tr>\n",
       "    <tr>\n",
       "      <th>1</th>\n",
       "      <td>1</td>\n",
       "      <td>1</td>\n",
       "      <td>0</td>\n",
       "      <td>0</td>\n",
       "      <td>2</td>\n",
       "      <td>0.363478</td>\n",
       "      <td>801</td>\n",
       "    </tr>\n",
       "    <tr>\n",
       "      <th>2</th>\n",
       "      <td>1</td>\n",
       "      <td>1</td>\n",
       "      <td>0</td>\n",
       "      <td>1</td>\n",
       "      <td>1</td>\n",
       "      <td>0.196364</td>\n",
       "      <td>1349</td>\n",
       "    </tr>\n",
       "    <tr>\n",
       "      <th>3</th>\n",
       "      <td>1</td>\n",
       "      <td>1</td>\n",
       "      <td>0</td>\n",
       "      <td>1</td>\n",
       "      <td>1</td>\n",
       "      <td>0.200000</td>\n",
       "      <td>1562</td>\n",
       "    </tr>\n",
       "    <tr>\n",
       "      <th>4</th>\n",
       "      <td>1</td>\n",
       "      <td>1</td>\n",
       "      <td>0</td>\n",
       "      <td>1</td>\n",
       "      <td>1</td>\n",
       "      <td>0.226957</td>\n",
       "      <td>1600</td>\n",
       "    </tr>\n",
       "  </tbody>\n",
       "</table>\n",
       "</div>"
      ],
      "text/plain": [
       "   season  mnth  holiday  workingday  weathersit      temp   cnt\n",
       "0       1     1        0           0           2  0.344167   985\n",
       "1       1     1        0           0           2  0.363478   801\n",
       "2       1     1        0           1           1  0.196364  1349\n",
       "3       1     1        0           1           1  0.200000  1562\n",
       "4       1     1        0           1           1  0.226957  1600"
      ]
     },
     "execution_count": 4,
     "metadata": {},
     "output_type": "execute_result"
    }
   ],
   "source": [
    "bike_data.head()"
   ]
  },
  {
   "cell_type": "code",
   "execution_count": 5,
   "id": "8c5b3e25",
   "metadata": {},
   "outputs": [
    {
     "data": {
      "text/plain": [
       "(731, 7)"
      ]
     },
     "execution_count": 5,
     "metadata": {},
     "output_type": "execute_result"
    }
   ],
   "source": [
    "bike_data.shape"
   ]
  },
  {
   "cell_type": "code",
   "execution_count": 6,
   "id": "d0a79d86",
   "metadata": {},
   "outputs": [
    {
     "data": {
      "text/plain": [
       "array([2, 1, 3], dtype=int64)"
      ]
     },
     "execution_count": 6,
     "metadata": {},
     "output_type": "execute_result"
    }
   ],
   "source": [
    "bike_data['weathersit'].unique()"
   ]
  },
  {
   "cell_type": "code",
   "execution_count": 8,
   "id": "e9f28089",
   "metadata": {},
   "outputs": [
    {
     "data": {
      "text/html": [
       "<div>\n",
       "<style scoped>\n",
       "    .dataframe tbody tr th:only-of-type {\n",
       "        vertical-align: middle;\n",
       "    }\n",
       "\n",
       "    .dataframe tbody tr th {\n",
       "        vertical-align: top;\n",
       "    }\n",
       "\n",
       "    .dataframe thead th {\n",
       "        text-align: right;\n",
       "    }\n",
       "</style>\n",
       "<table border=\"1\" class=\"dataframe\">\n",
       "  <thead>\n",
       "    <tr style=\"text-align: right;\">\n",
       "      <th>weathersit</th>\n",
       "      <th>1</th>\n",
       "      <th>2</th>\n",
       "      <th>3</th>\n",
       "    </tr>\n",
       "  </thead>\n",
       "  <tbody>\n",
       "    <tr>\n",
       "      <th>count</th>\n",
       "      <td>463.000000</td>\n",
       "      <td>247.000000</td>\n",
       "      <td>21.000000</td>\n",
       "    </tr>\n",
       "    <tr>\n",
       "      <th>mean</th>\n",
       "      <td>4876.786177</td>\n",
       "      <td>4035.862348</td>\n",
       "      <td>1803.285714</td>\n",
       "    </tr>\n",
       "    <tr>\n",
       "      <th>std</th>\n",
       "      <td>1879.483989</td>\n",
       "      <td>1809.109918</td>\n",
       "      <td>1240.284449</td>\n",
       "    </tr>\n",
       "    <tr>\n",
       "      <th>min</th>\n",
       "      <td>431.000000</td>\n",
       "      <td>605.000000</td>\n",
       "      <td>22.000000</td>\n",
       "    </tr>\n",
       "    <tr>\n",
       "      <th>25%</th>\n",
       "      <td>3636.500000</td>\n",
       "      <td>2674.500000</td>\n",
       "      <td>705.000000</td>\n",
       "    </tr>\n",
       "    <tr>\n",
       "      <th>50%</th>\n",
       "      <td>4844.000000</td>\n",
       "      <td>4040.000000</td>\n",
       "      <td>1817.000000</td>\n",
       "    </tr>\n",
       "    <tr>\n",
       "      <th>75%</th>\n",
       "      <td>6458.500000</td>\n",
       "      <td>5257.500000</td>\n",
       "      <td>2424.000000</td>\n",
       "    </tr>\n",
       "    <tr>\n",
       "      <th>max</th>\n",
       "      <td>8714.000000</td>\n",
       "      <td>8362.000000</td>\n",
       "      <td>4639.000000</td>\n",
       "    </tr>\n",
       "  </tbody>\n",
       "</table>\n",
       "</div>"
      ],
      "text/plain": [
       "weathersit            1            2            3\n",
       "count        463.000000   247.000000    21.000000\n",
       "mean        4876.786177  4035.862348  1803.285714\n",
       "std         1879.483989  1809.109918  1240.284449\n",
       "min          431.000000   605.000000    22.000000\n",
       "25%         3636.500000  2674.500000   705.000000\n",
       "50%         4844.000000  4040.000000  1817.000000\n",
       "75%         6458.500000  5257.500000  2424.000000\n",
       "max         8714.000000  8362.000000  4639.000000"
      ]
     },
     "execution_count": 8,
     "metadata": {},
     "output_type": "execute_result"
    }
   ],
   "source": [
    "bike_data.groupby('weathersit')['cnt'].describe().T"
   ]
  },
  {
   "cell_type": "code",
   "execution_count": 11,
   "id": "444a5ba6",
   "metadata": {},
   "outputs": [
    {
     "data": {
      "text/plain": [
       "<Axes: title={'center': 'cnt'}, xlabel='weathersit'>"
      ]
     },
     "execution_count": 11,
     "metadata": {},
     "output_type": "execute_result"
    },
    {
     "data": {
      "image/png": "[encoded data removed]",
      "text/plain": [
       "<Figure size 1200x800 with 1 Axes>"
      ]
     },
     "metadata": {},
     "output_type": "display_data"
    }
   ],
   "source": [
    "bike_data.boxplot(column=['cnt'], by='weathersit', figsize=(12,8))"
   ]
  },
  {
   "cell_type": "code",
   "execution_count": 12,
   "id": "b6250482",
   "metadata": {},
   "outputs": [],
   "source": [
    "#h0: No difference between means\n",
    "#ha: difference between means exist somewhere"
   ]
  },
  {
   "cell_type": "code",
   "execution_count": 13,
   "id": "1e5478f9",
   "metadata": {},
   "outputs": [
    {
     "data": {
      "text/plain": [
       "F_onewayResult(statistic=40.06604492024684, pvalue=3.106317270053755e-17)"
      ]
     },
     "execution_count": 13,
     "metadata": {},
     "output_type": "execute_result"
    }
   ],
   "source": [
    "stats.f_oneway(bike_data['cnt'][bike_data['weathersit']==1],\n",
    "               bike_data['cnt'][bike_data['weathersit']==2],\n",
    "               bike_data['cnt'][bike_data['weathersit']==3])\n",
    "               "
   ]
  },
  {
   "cell_type": "code",
   "execution_count": 14,
   "id": "060150c5",
   "metadata": {},
   "outputs": [],
   "source": [
    "#difference between means of these variables are signifigant, reject null hypothesis"
   ]
  },
  {
   "cell_type": "code",
   "execution_count": 15,
   "id": "bd55f753",
   "metadata": {},
   "outputs": [],
   "source": [
    "result = ols('cnt ~ C(weathersit)', data = bike_data).fit()"
   ]
  },
  {
   "cell_type": "code",
   "execution_count": 16,
   "id": "698f0033",
   "metadata": {},
   "outputs": [
    {
     "name": "stdout",
     "output_type": "stream",
     "text": [
      "                            OLS Regression Results                            \n",
      "==============================================================================\n",
      "Dep. Variable:                    cnt   R-squared:                       0.099\n",
      "Model:                            OLS   Adj. R-squared:                  0.097\n",
      "Method:                 Least Squares   F-statistic:                     40.07\n",
      "Date:                Tue, 09 May 2023   Prob (F-statistic):           3.11e-17\n",
      "Time:                        17:08:39   Log-Likelihood:                -6531.5\n",
      "No. Observations:                 731   AIC:                         1.307e+04\n",
      "Df Residuals:                     728   BIC:                         1.308e+04\n",
      "Df Model:                           2                                         \n",
      "Covariance Type:            nonrobust                                         \n",
      "======================================================================================\n",
      "                         coef    std err          t      P>|t|      [0.025      0.975]\n",
      "--------------------------------------------------------------------------------------\n",
      "Intercept           4876.7862     85.567     56.994      0.000    4708.798    5044.774\n",
      "C(weathersit)[T.2]  -840.9238    145.073     -5.797      0.000   -1125.736    -556.112\n",
      "C(weathersit)[T.3] -3073.5005    410.790     -7.482      0.000   -3879.975   -2267.026\n",
      "==============================================================================\n",
      "Omnibus:                       38.064   Durbin-Watson:                   0.260\n",
      "Prob(Omnibus):                  0.000   Jarque-Bera (JB):               15.665\n",
      "Skew:                          -0.061   Prob(JB):                     0.000397\n",
      "Kurtosis:                       2.293   Cond. No.                         6.46\n",
      "==============================================================================\n",
      "\n",
      "Notes:\n",
      "[1] Standard Errors assume that the covariance matrix of the errors is correctly specified.\n"
     ]
    }
   ],
   "source": [
    "print(result.summary())"
   ]
  },
  {
   "cell_type": "code",
   "execution_count": 17,
   "id": "a1b65c5a",
   "metadata": {},
   "outputs": [
    {
     "data": {
      "text/plain": [
       "array([2, 1, 3], dtype=int64)"
      ]
     },
     "execution_count": 17,
     "metadata": {},
     "output_type": "execute_result"
    }
   ],
   "source": [
    "bike_data['weathersit'].unique()"
   ]
  },
  {
   "cell_type": "code",
   "execution_count": 18,
   "id": "dbb602b8",
   "metadata": {},
   "outputs": [
    {
     "name": "stdout",
     "output_type": "stream",
     "text": [
      "\n",
      "\n"
     ]
    },
    {
     "name": "stderr",
     "output_type": "stream",
     "text": [
      "C:\\Users\\aerap\\anaconda3\\lib\\site-packages\\scipy\\stats\\_distn_infrastructure.py:2351: RuntimeWarning: invalid value encountered in multiply\n",
      "  lower_bound = _a * scale + loc\n",
      "C:\\Users\\aerap\\anaconda3\\lib\\site-packages\\scipy\\stats\\_distn_infrastructure.py:2352: RuntimeWarning: invalid value encountered in multiply\n",
      "  upper_bound = _b * scale + loc\n"
     ]
    },
    {
     "data": {
      "text/html": [
       "<div>\n",
       "<style scoped>\n",
       "    .dataframe tbody tr th:only-of-type {\n",
       "        vertical-align: middle;\n",
       "    }\n",
       "\n",
       "    .dataframe tbody tr th {\n",
       "        vertical-align: top;\n",
       "    }\n",
       "\n",
       "    .dataframe thead th {\n",
       "        text-align: right;\n",
       "    }\n",
       "</style>\n",
       "<table border=\"1\" class=\"dataframe\">\n",
       "  <thead>\n",
       "    <tr style=\"text-align: right;\">\n",
       "      <th></th>\n",
       "      <th>N</th>\n",
       "      <th>Mean</th>\n",
       "      <th>SD</th>\n",
       "      <th>SE</th>\n",
       "      <th>95% Conf.</th>\n",
       "      <th>Interval</th>\n",
       "    </tr>\n",
       "    <tr>\n",
       "      <th>weathersit</th>\n",
       "      <th></th>\n",
       "      <th></th>\n",
       "      <th></th>\n",
       "      <th></th>\n",
       "      <th></th>\n",
       "      <th></th>\n",
       "    </tr>\n",
       "  </thead>\n",
       "  <tbody>\n",
       "    <tr>\n",
       "      <th>1</th>\n",
       "      <td>463</td>\n",
       "      <td>4876.7862</td>\n",
       "      <td>1879.4840</td>\n",
       "      <td>87.3470</td>\n",
       "      <td>4705.1395</td>\n",
       "      <td>5048.4329</td>\n",
       "    </tr>\n",
       "    <tr>\n",
       "      <th>2</th>\n",
       "      <td>247</td>\n",
       "      <td>4035.8623</td>\n",
       "      <td>1809.1099</td>\n",
       "      <td>115.1109</td>\n",
       "      <td>3809.1337</td>\n",
       "      <td>4262.5910</td>\n",
       "    </tr>\n",
       "    <tr>\n",
       "      <th>3</th>\n",
       "      <td>21</td>\n",
       "      <td>1803.2857</td>\n",
       "      <td>1240.2844</td>\n",
       "      <td>270.6523</td>\n",
       "      <td>1238.7150</td>\n",
       "      <td>2367.8564</td>\n",
       "    </tr>\n",
       "  </tbody>\n",
       "</table>\n",
       "</div>"
      ],
      "text/plain": [
       "              N       Mean         SD        SE  95% Conf.   Interval\n",
       "weathersit                                                           \n",
       "1           463  4876.7862  1879.4840   87.3470  4705.1395  5048.4329\n",
       "2           247  4035.8623  1809.1099  115.1109  3809.1337  4262.5910\n",
       "3            21  1803.2857  1240.2844  270.6523  1238.7150  2367.8564"
      ]
     },
     "execution_count": 18,
     "metadata": {},
     "output_type": "execute_result"
    }
   ],
   "source": [
    "rp.summary_cont(bike_data.groupby(['weathersit']))['cnt']"
   ]
  },
  {
   "cell_type": "code",
   "execution_count": 20,
   "id": "f0a7ffa8",
   "metadata": {},
   "outputs": [
    {
     "data": {
      "text/plain": [
       "<Axes: title={'center': 'cnt'}, xlabel='weathersit'>"
      ]
     },
     "execution_count": 20,
     "metadata": {},
     "output_type": "execute_result"
    },
    {
     "data": {
      "image/png": "[encoded data removed]",
      "text/plain": [
       "<Figure size 1200x800 with 1 Axes>"
      ]
     },
     "metadata": {},
     "output_type": "display_data"
    }
   ],
   "source": [
    "bike_data.boxplot(column=['cnt'],by='weathersit', figsize=(12,8))"
   ]
  },
  {
   "cell_type": "code",
   "execution_count": 21,
   "id": "0a5961c6",
   "metadata": {},
   "outputs": [
    {
     "name": "stdout",
     "output_type": "stream",
     "text": [
      "\n",
      "\n"
     ]
    },
    {
     "data": {
      "text/html": [
       "<div>\n",
       "<style scoped>\n",
       "    .dataframe tbody tr th:only-of-type {\n",
       "        vertical-align: middle;\n",
       "    }\n",
       "\n",
       "    .dataframe tbody tr th {\n",
       "        vertical-align: top;\n",
       "    }\n",
       "\n",
       "    .dataframe thead th {\n",
       "        text-align: right;\n",
       "    }\n",
       "</style>\n",
       "<table border=\"1\" class=\"dataframe\">\n",
       "  <thead>\n",
       "    <tr style=\"text-align: right;\">\n",
       "      <th></th>\n",
       "      <th>N</th>\n",
       "      <th>Mean</th>\n",
       "      <th>SD</th>\n",
       "      <th>SE</th>\n",
       "      <th>95% Conf.</th>\n",
       "      <th>Interval</th>\n",
       "    </tr>\n",
       "    <tr>\n",
       "      <th>season</th>\n",
       "      <th></th>\n",
       "      <th></th>\n",
       "      <th></th>\n",
       "      <th></th>\n",
       "      <th></th>\n",
       "      <th></th>\n",
       "    </tr>\n",
       "  </thead>\n",
       "  <tbody>\n",
       "    <tr>\n",
       "      <th>1</th>\n",
       "      <td>181</td>\n",
       "      <td>2604.1326</td>\n",
       "      <td>1399.9421</td>\n",
       "      <td>104.0569</td>\n",
       "      <td>2398.8044</td>\n",
       "      <td>2809.4608</td>\n",
       "    </tr>\n",
       "    <tr>\n",
       "      <th>2</th>\n",
       "      <td>184</td>\n",
       "      <td>4992.3315</td>\n",
       "      <td>1695.9772</td>\n",
       "      <td>125.0291</td>\n",
       "      <td>4745.6476</td>\n",
       "      <td>5239.0154</td>\n",
       "    </tr>\n",
       "    <tr>\n",
       "      <th>3</th>\n",
       "      <td>188</td>\n",
       "      <td>5644.3032</td>\n",
       "      <td>1459.8004</td>\n",
       "      <td>106.4669</td>\n",
       "      <td>5434.2727</td>\n",
       "      <td>5854.3337</td>\n",
       "    </tr>\n",
       "    <tr>\n",
       "      <th>4</th>\n",
       "      <td>178</td>\n",
       "      <td>4728.1629</td>\n",
       "      <td>1699.6153</td>\n",
       "      <td>127.3915</td>\n",
       "      <td>4476.7612</td>\n",
       "      <td>4979.5647</td>\n",
       "    </tr>\n",
       "  </tbody>\n",
       "</table>\n",
       "</div>"
      ],
      "text/plain": [
       "          N       Mean         SD        SE  95% Conf.   Interval\n",
       "season                                                           \n",
       "1       181  2604.1326  1399.9421  104.0569  2398.8044  2809.4608\n",
       "2       184  4992.3315  1695.9772  125.0291  4745.6476  5239.0154\n",
       "3       188  5644.3032  1459.8004  106.4669  5434.2727  5854.3337\n",
       "4       178  4728.1629  1699.6153  127.3915  4476.7612  4979.5647"
      ]
     },
     "execution_count": 21,
     "metadata": {},
     "output_type": "execute_result"
    }
   ],
   "source": [
    "rp.summary_cont(bike_data.groupby(['season']))['cnt']"
   ]
  },
  {
   "cell_type": "code",
   "execution_count": 22,
   "id": "8b5d6fd1",
   "metadata": {},
   "outputs": [
    {
     "data": {
      "text/plain": [
       "<Axes: title={'center': 'cnt'}, xlabel='season'>"
      ]
     },
     "execution_count": 22,
     "metadata": {},
     "output_type": "execute_result"
    },
    {
     "data": {
      "image/png": "[encoded data removed]",
      "text/plain": [
       "<Figure size 1200x800 with 1 Axes>"
      ]
     },
     "metadata": {},
     "output_type": "display_data"
    }
   ],
   "source": [
    "bike_data.boxplot(column=['cnt'],by='season', figsize=(12,8))"
   ]
  },
  {
   "cell_type": "code",
   "execution_count": 24,
   "id": "0de1c628",
   "metadata": {},
   "outputs": [],
   "source": [
    "model= ols('cnt ~ C(weathersit)', bike_data).fit()"
   ]
  },
  {
   "cell_type": "code",
   "execution_count": 25,
   "id": "0ea50135",
   "metadata": {},
   "outputs": [
    {
     "name": "stdout",
     "output_type": "stream",
     "text": [
      "                            OLS Regression Results                            \n",
      "==============================================================================\n",
      "Dep. Variable:                    cnt   R-squared:                       0.099\n",
      "Model:                            OLS   Adj. R-squared:                  0.097\n",
      "Method:                 Least Squares   F-statistic:                     40.07\n",
      "Date:                Tue, 09 May 2023   Prob (F-statistic):           3.11e-17\n",
      "Time:                        17:46:20   Log-Likelihood:                -6531.5\n",
      "No. Observations:                 731   AIC:                         1.307e+04\n",
      "Df Residuals:                     728   BIC:                         1.308e+04\n",
      "Df Model:                           2                                         \n",
      "Covariance Type:            nonrobust                                         \n",
      "======================================================================================\n",
      "                         coef    std err          t      P>|t|      [0.025      0.975]\n",
      "--------------------------------------------------------------------------------------\n",
      "Intercept           4876.7862     85.567     56.994      0.000    4708.798    5044.774\n",
      "C(weathersit)[T.2]  -840.9238    145.073     -5.797      0.000   -1125.736    -556.112\n",
      "C(weathersit)[T.3] -3073.5005    410.790     -7.482      0.000   -3879.975   -2267.026\n",
      "==============================================================================\n",
      "Omnibus:                       38.064   Durbin-Watson:                   0.260\n",
      "Prob(Omnibus):                  0.000   Jarque-Bera (JB):               15.665\n",
      "Skew:                          -0.061   Prob(JB):                     0.000397\n",
      "Kurtosis:                       2.293   Cond. No.                         6.46\n",
      "==============================================================================\n",
      "\n",
      "Notes:\n",
      "[1] Standard Errors assume that the covariance matrix of the errors is correctly specified.\n"
     ]
    }
   ],
   "source": [
    "print(model.summary())"
   ]
  },
  {
   "cell_type": "code",
   "execution_count": 27,
   "id": "30a4ea88",
   "metadata": {},
   "outputs": [
    {
     "name": "stdout",
     "output_type": "stream",
     "text": [
      "                            OLS Regression Results                            \n",
      "==============================================================================\n",
      "Dep. Variable:                    cnt   R-squared:                       0.347\n",
      "Model:                            OLS   Adj. R-squared:                  0.344\n",
      "Method:                 Least Squares   F-statistic:                     128.8\n",
      "Date:                Tue, 09 May 2023   Prob (F-statistic):           6.72e-67\n",
      "Time:                        17:57:26   Log-Likelihood:                -6413.9\n",
      "No. Observations:                 731   AIC:                         1.284e+04\n",
      "Df Residuals:                     727   BIC:                         1.285e+04\n",
      "Df Model:                           3                                         \n",
      "Covariance Type:            nonrobust                                         \n",
      "==================================================================================\n",
      "                     coef    std err          t      P>|t|      [0.025      0.975]\n",
      "----------------------------------------------------------------------------------\n",
      "Intercept       2604.1326    116.598     22.334      0.000    2375.223    2833.042\n",
      "C(season)[T.2]  2388.1989    164.221     14.543      0.000    2065.795    2710.603\n",
      "C(season)[T.3]  3040.1706    163.352     18.611      0.000    2719.472    3360.869\n",
      "C(season)[T.4]  2124.0303    165.588     12.827      0.000    1798.943    2449.118\n",
      "==============================================================================\n",
      "Omnibus:                        3.050   Durbin-Watson:                   0.469\n",
      "Prob(Omnibus):                  0.218   Jarque-Bera (JB):                2.765\n",
      "Skew:                           0.080   Prob(JB):                        0.251\n",
      "Kurtosis:                       2.745   Cond. No.                         4.81\n",
      "==============================================================================\n",
      "\n",
      "Notes:\n",
      "[1] Standard Errors assume that the covariance matrix of the errors is correctly specified.\n"
     ]
    }
   ],
   "source": [
    "model= ols('cnt ~ C(season)', bike_data).fit()\n",
    "print(model.summary())"
   ]
  },
  {
   "cell_type": "code",
   "execution_count": 28,
   "id": "2107d7ef",
   "metadata": {},
   "outputs": [
    {
     "name": "stdout",
     "output_type": "stream",
     "text": [
      "                            OLS Regression Results                            \n",
      "==============================================================================\n",
      "Dep. Variable:                    cnt   R-squared:                       0.347\n",
      "Model:                            OLS   Adj. R-squared:                  0.344\n",
      "Method:                 Least Squares   F-statistic:                     128.8\n",
      "Date:                Tue, 09 May 2023   Prob (F-statistic):           6.72e-67\n",
      "Time:                        17:58:43   Log-Likelihood:                -6413.9\n",
      "No. Observations:                 731   AIC:                         1.284e+04\n",
      "Df Residuals:                     727   BIC:                         1.285e+04\n",
      "Df Model:                           3                                         \n",
      "Covariance Type:            nonrobust                                         \n",
      "==================================================================================\n",
      "                     coef    std err          t      P>|t|      [0.025      0.975]\n",
      "----------------------------------------------------------------------------------\n",
      "Intercept       2604.1326    116.598     22.334      0.000    2375.223    2833.042\n",
      "C(season)[T.2]  2388.1989    164.221     14.543      0.000    2065.795    2710.603\n",
      "C(season)[T.3]  3040.1706    163.352     18.611      0.000    2719.472    3360.869\n",
      "C(season)[T.4]  2124.0303    165.588     12.827      0.000    1798.943    2449.118\n",
      "==============================================================================\n",
      "Omnibus:                        3.050   Durbin-Watson:                   0.469\n",
      "Prob(Omnibus):                  0.218   Jarque-Bera (JB):                2.765\n",
      "Skew:                           0.080   Prob(JB):                        0.251\n",
      "Kurtosis:                       2.745   Cond. No.                         4.81\n",
      "==============================================================================\n",
      "\n",
      "Notes:\n",
      "[1] Standard Errors assume that the covariance matrix of the errors is correctly specified.\n"
     ]
    }
   ],
   "source": [
    "model= ols('cnt ~ C(season) + C(season)', bike_data).fit()\n",
    "print(model.summary())"
   ]
  },
  {
   "cell_type": "code",
   "execution_count": 30,
   "id": "590e9f1a",
   "metadata": {},
   "outputs": [
    {
     "data": {
      "text/html": [
       "<div>\n",
       "<style scoped>\n",
       "    .dataframe tbody tr th:only-of-type {\n",
       "        vertical-align: middle;\n",
       "    }\n",
       "\n",
       "    .dataframe tbody tr th {\n",
       "        vertical-align: top;\n",
       "    }\n",
       "\n",
       "    .dataframe thead th {\n",
       "        text-align: right;\n",
       "    }\n",
       "</style>\n",
       "<table border=\"1\" class=\"dataframe\">\n",
       "  <thead>\n",
       "    <tr style=\"text-align: right;\">\n",
       "      <th></th>\n",
       "      <th>df</th>\n",
       "      <th>sum_sq</th>\n",
       "      <th>mean_sq</th>\n",
       "      <th>F</th>\n",
       "      <th>PR(&gt;F)</th>\n",
       "    </tr>\n",
       "  </thead>\n",
       "  <tbody>\n",
       "    <tr>\n",
       "      <th>C(season)</th>\n",
       "      <td>3.0</td>\n",
       "      <td>9.505959e+08</td>\n",
       "      <td>3.168653e+08</td>\n",
       "      <td>128.769622</td>\n",
       "      <td>6.720391e-67</td>\n",
       "    </tr>\n",
       "    <tr>\n",
       "      <th>Residual</th>\n",
       "      <td>727.0</td>\n",
       "      <td>1.788940e+09</td>\n",
       "      <td>2.460715e+06</td>\n",
       "      <td>NaN</td>\n",
       "      <td>NaN</td>\n",
       "    </tr>\n",
       "  </tbody>\n",
       "</table>\n",
       "</div>"
      ],
      "text/plain": [
       "              df        sum_sq       mean_sq           F        PR(>F)\n",
       "C(season)    3.0  9.505959e+08  3.168653e+08  128.769622  6.720391e-67\n",
       "Residual   727.0  1.788940e+09  2.460715e+06         NaN           NaN"
      ]
     },
     "execution_count": 30,
     "metadata": {},
     "output_type": "execute_result"
    }
   ],
   "source": [
    "import statsmodels.api as sm\n",
    "sm.stats.anova_lm(model)"
   ]
  },
  {
   "cell_type": "code",
   "execution_count": 31,
   "id": "7947dca6",
   "metadata": {},
   "outputs": [
    {
     "name": "stdout",
     "output_type": "stream",
     "text": [
      "                            OLS Regression Results                            \n",
      "==============================================================================\n",
      "Dep. Variable:                    cnt   R-squared:                       0.447\n",
      "Model:                            OLS   Adj. R-squared:                  0.439\n",
      "Method:                 Least Squares   F-statistic:                     52.85\n",
      "Date:                Tue, 09 May 2023   Prob (F-statistic):           5.25e-85\n",
      "Time:                        18:39:26   Log-Likelihood:                -6353.1\n",
      "No. Observations:                 731   AIC:                         1.273e+04\n",
      "Df Residuals:                     719   BIC:                         1.279e+04\n",
      "Df Model:                          11                                         \n",
      "Covariance Type:            nonrobust                                         \n",
      "=====================================================================================================\n",
      "                                        coef    std err          t      P>|t|      [0.025      0.975]\n",
      "-----------------------------------------------------------------------------------------------------\n",
      "Intercept                          2811.1351    137.768     20.405      0.000    2540.660    3081.611\n",
      "C(weathersit)[T.2]                 -453.9685    225.612     -2.012      0.045    -896.906     -11.031\n",
      "C(weathersit)[T.3]                -1876.3851    738.699     -2.540      0.011   -3326.649    -426.121\n",
      "C(season)[T.2]                     2737.4135    193.969     14.113      0.000    2356.600    3118.228\n",
      "C(season)[T.3]                     3067.1222    185.664     16.520      0.000    2702.614    3431.630\n",
      "C(season)[T.4]                     2232.4280    198.581     11.242      0.000    1842.561    2622.295\n",
      "C(weathersit)[T.2]:C(season)[T.2]  -857.8743    317.060     -2.706      0.007   -1480.349    -235.400\n",
      "C(weathersit)[T.3]:C(season)[T.2] -2503.1635   1125.425     -2.224      0.026   -4712.675    -293.653\n",
      "C(weathersit)[T.2]:C(season)[T.3]  -201.8097    332.089     -0.608      0.544    -853.790     450.171\n",
      "C(weathersit)[T.3]:C(season)[T.3] -1250.1222   1043.006     -1.199      0.231   -3297.824     797.580\n",
      "C(weathersit)[T.2]:C(season)[T.4]    64.4054    322.129      0.200      0.842    -568.021     696.832\n",
      "C(weathersit)[T.3]:C(season)[T.4] -1205.5780    881.367     -1.368      0.172   -2935.939     524.783\n",
      "==============================================================================\n",
      "Omnibus:                       13.342   Durbin-Watson:                   0.422\n",
      "Prob(Omnibus):                  0.001   Jarque-Bera (JB):               12.110\n",
      "Skew:                           0.261   Prob(JB):                      0.00235\n",
      "Kurtosis:                       2.647   Cond. No.                         35.1\n",
      "==============================================================================\n",
      "\n",
      "Notes:\n",
      "[1] Standard Errors assume that the covariance matrix of the errors is correctly specified.\n"
     ]
    }
   ],
   "source": [
    "model = ols('cnt ~ C(weathersit)* C(season)', bike_data).fit()\n",
    "print(model.summary())"
   ]
  },
  {
   "cell_type": "code",
   "execution_count": 32,
   "id": "ada55fce",
   "metadata": {},
   "outputs": [
    {
     "data": {
      "text/html": [
       "<div>\n",
       "<style scoped>\n",
       "    .dataframe tbody tr th:only-of-type {\n",
       "        vertical-align: middle;\n",
       "    }\n",
       "\n",
       "    .dataframe tbody tr th {\n",
       "        vertical-align: top;\n",
       "    }\n",
       "\n",
       "    .dataframe thead th {\n",
       "        text-align: right;\n",
       "    }\n",
       "</style>\n",
       "<table border=\"1\" class=\"dataframe\">\n",
       "  <thead>\n",
       "    <tr style=\"text-align: right;\">\n",
       "      <th></th>\n",
       "      <th>df</th>\n",
       "      <th>sum_sq</th>\n",
       "      <th>mean_sq</th>\n",
       "      <th>F</th>\n",
       "      <th>PR(&gt;F)</th>\n",
       "    </tr>\n",
       "  </thead>\n",
       "  <tbody>\n",
       "    <tr>\n",
       "      <th>C(weathersit)</th>\n",
       "      <td>2.0</td>\n",
       "      <td>2.716446e+08</td>\n",
       "      <td>1.358223e+08</td>\n",
       "      <td>64.469065</td>\n",
       "      <td>1.766520e-26</td>\n",
       "    </tr>\n",
       "    <tr>\n",
       "      <th>C(season)</th>\n",
       "      <td>3.0</td>\n",
       "      <td>9.224636e+08</td>\n",
       "      <td>3.074879e+08</td>\n",
       "      <td>145.951415</td>\n",
       "      <td>7.347364e-74</td>\n",
       "    </tr>\n",
       "    <tr>\n",
       "      <th>C(weathersit):C(season)</th>\n",
       "      <td>6.0</td>\n",
       "      <td>3.065076e+07</td>\n",
       "      <td>5.108460e+06</td>\n",
       "      <td>2.424769</td>\n",
       "      <td>2.505746e-02</td>\n",
       "    </tr>\n",
       "    <tr>\n",
       "      <th>Residual</th>\n",
       "      <td>719.0</td>\n",
       "      <td>1.514776e+09</td>\n",
       "      <td>2.106782e+06</td>\n",
       "      <td>NaN</td>\n",
       "      <td>NaN</td>\n",
       "    </tr>\n",
       "  </tbody>\n",
       "</table>\n",
       "</div>"
      ],
      "text/plain": [
       "                            df        sum_sq       mean_sq           F  \\\n",
       "C(weathersit)              2.0  2.716446e+08  1.358223e+08   64.469065   \n",
       "C(season)                  3.0  9.224636e+08  3.074879e+08  145.951415   \n",
       "C(weathersit):C(season)    6.0  3.065076e+07  5.108460e+06    2.424769   \n",
       "Residual                 719.0  1.514776e+09  2.106782e+06         NaN   \n",
       "\n",
       "                               PR(>F)  \n",
       "C(weathersit)            1.766520e-26  \n",
       "C(season)                7.347364e-74  \n",
       "C(weathersit):C(season)  2.505746e-02  \n",
       "Residual                          NaN  "
      ]
     },
     "execution_count": 32,
     "metadata": {},
     "output_type": "execute_result"
    }
   ],
   "source": [
    "sm.stats.anova_lm(model)"
   ]
  },
  {
   "cell_type": "code",
   "execution_count": null,
   "id": "0c6362ec",
   "metadata": {},
   "outputs": [],
   "source": []
  }
 ],
 "metadata": {
  "kernelspec": {
   "display_name": "Python 3 (ipykernel)",
   "language": "python",
   "name": "python3"
  },
  "language_info": {
   "codemirror_mode": {
    "name": "ipython",
    "version": 3
   },
   "file_extension": ".py",
   "mimetype": "text/x-python",
   "name": "python",
   "nbconvert_exporter": "python",
   "pygments_lexer": "ipython3",
   "version": "3.10.9"
  }
 },
 "nbformat": 4,
 "nbformat_minor": 5
}
