{
 "cells": [
  {
   "cell_type": "code",
   "execution_count": 2,
   "id": "24c94dfd",
   "metadata": {},
   "outputs": [],
   "source": [
    "string = 'Hello' + 'Gooday'"
   ]
  },
  {
   "cell_type": "code",
   "execution_count": 3,
   "id": "a7758e6a",
   "metadata": {
    "scrolled": true
   },
   "outputs": [
    {
     "name": "stdout",
     "output_type": "stream",
     "text": [
      "HelloGooday\n"
     ]
    }
   ],
   "source": [
    "print(string)"
   ]
  },
  {
   "cell_type": "code",
   "execution_count": 19,
   "id": "d3f1ceeb",
   "metadata": {},
   "outputs": [],
   "source": [
    "role= ''\n",
    "role= 'Labs - Data Scientist - Senior Associate- job post PRICE WATERHOUSE COOPERS 8,619 reviews Portland, OR 97205'\n",
    "prompt= ('Write me a cover letter in a conversational language for the ' + (role) + ' using the following resume: ')"
   ]
  },
  {
   "cell_type": "code",
   "execution_count": 20,
   "id": "2b5b5fbc",
   "metadata": {
    "scrolled": true
   },
   "outputs": [
    {
     "name": "stdout",
     "output_type": "stream",
     "text": [
      "Write me a cover letter in a conversational language for the Labs - Data Scientist - Senior Associate- job post PRICE WATERHOUSE COOPERS 8,619 reviews Portland, OR 97205using the following resume:\n"
     ]
    }
   ],
   "source": [
    "print(prompt)"
   ]
  },
  {
   "cell_type": "raw",
   "id": "0982e7a5",
   "metadata": {},
   "source": [
    "\n",
    "resume =\n",
    "\n",
    "Objective:\n",
    "Data scientist and Front-end Developer with a a problem solving focus on the development and use of applications. Using languages and programs to deliver solutions with a customer first approach. \n",
    "\n",
    "Can write programs  in the following languages and utilizing following  frameworks and tools:\n",
    "\n",
    "\n",
    " LANGUAGES:\n",
    "SQL\n",
    "R\n",
    "Python\n",
    "HTML\n",
    "Javascript\n",
    "CSS\n",
    "\n",
    "FRAMEWORKS:\n",
    "Bootstrap\n",
    "Jquery\n",
    "Node Js\n",
    "\n",
    "SOFTWARE TOOLS:\n",
    "PowerBI\n",
    "MicrosoftOS\n",
    "GIS\n",
    "Tableau\n",
    "Taleo\n",
    "\n",
    "\n",
    "PROJECT EXPERIENCE:\n",
    "Epic upgrade fix - lead on project for upgrade to prevent coding errors\n",
    "Discovered error that would lead to transcription errors and decrease in turnaround for products. Created excel and word created docs that explained the problem.\n",
    "Tested IT created fix in an Electronic Health Record System (EPIC) sandbox environment.\n",
    "Created operating procedure and led training for staff on new process. \n",
    "Population Survey Database - determine  bird population feeding behavior\n",
    "Developed experiment and hypothesis  surveys to gather information from different areas.\n",
    "Wrote program in  R  to create logic and plot data as well as Excel to plot data..\n",
    "Wrote a paper explaining my findings as a practice in science writing for Field Ecology. \n",
    "Website Projects - promoting a concert tour and a local cinema\n",
    "Utilizing Javascript, HTML Json, Jquery, and CSS created a website with features such as a rewards form to fill out, a navigation bar, slide show, and image gallery\n",
    "Created a website using only bootstrap that promoted a fictional local cinema.  \n",
    "\n",
    "\n",
    "SOFTWARE EXPERIENCE\n",
    "Coding bootcamp, the tech academy | portland, or\n",
    "Intensive data science coding bootcamp focused on machine learning, data analysis, and visualization. .\n",
    "Attending Meetup seminars to try and expand and hopefully assist with some projects.\n",
    "Hospital computing, cellnetix/ohsu | washington/oregon\n",
    "I did data entry in EPIC entering patient data which could be easily be incorrect so this required a lot of care and attention to detail. I had to take a course to get certified for it.\n",
    "I taught coworkers  how to navigate new features of programs, mainly Epic, and solve problems relating to doctor’s orders, patient and health  info. \n",
    "Streamlined quality control with Python.\n",
    "\n",
    "\n",
    "OTHER EXPERIENCE:\n",
    "Medical lab tech, cytogenetics - oregon health science university | nov 2021 – mar  2023\n",
    "Implemented a label process that reduced transcription errors by half. \n",
    "Lead change to chemical making procedure to increase volume and reduce prep time.\n",
    "Actively followed up with suppliers to reduce supply chain problems.\n",
    "lab technical assistant, immunology - ohsu | aug 2019 – nov 2021 \n",
    "As section safety officer conducted  safety trainings and audits.\n",
    "Actively consulted with external and internal customers to solve issues over phone and email to reduce chronic issues by half. \n",
    "recruitment coordinator, hr - robert half| mar 2018 - may 2019 \n",
    "I did recruiting data entry using HRIS Taleo, utilized spreadsheets for stat tracking.\n",
    "Collaborated with diverse set of  internal customers over phone and email. \n",
    "lab assistant iii, surgical pathology - cellnetix | may 2015 - jan 2018 \n",
    "I assisted customers via oral, email, and phone to navigate issues.\n",
    "Data entry of patient info, powerPath specimen info and  correct errors in Epic. \n",
    "\n",
    "VOLUNTEERING:\n",
    "Research assistant, osu oncology lab| aug 2010- june 2012\n",
    "I assisted osteoclast research  using PCR, mainly made agarose gels.\n",
    "Research assistant, forest service | aug 2011- june 2012\n",
    "I assisted bat and frog population surveys using GIS and Excel. \n",
    "Seasonal ranger, park service | aug 2011- june 2012\n",
    "I did entered permits electronically using the park database, greeted the public with and assisted with information on park information, nature education and safety.\n",
    "Book sorter, friends of multnomah co library | jun 2019- june 2021\n",
    "\n",
    "EDUCATION:\n",
    "b.s. degree - biology | graduated may 2013 | Ohio university\n",
    "the tech academy coding bootcamp, data science | Attending Feb 2023\n",
    "\n",
    "\n",
    "\n",
    "\n"
   ]
  },
  {
   "cell_type": "code",
   "execution_count": 22,
   "id": "97568160",
   "metadata": {},
   "outputs": [
    {
     "name": "stdout",
     "output_type": "stream",
     "text": [
      "rewrite the cover letter to include the following job requirements WHERE APPLICABLE:\n"
     ]
    }
   ],
   "source": [
    "prompt2= 'rewrite the cover letter to include the following job requirements WHERE APPLICABLE:'\n",
    "print(prompt2)"
   ]
  },
  {
   "cell_type": "raw",
   "id": "6942a4e3",
   "metadata": {},
   "source": [
    "rewrite the cover letter to include the following job requirements WHERE APPLICABLE:\n",
    "\n",
    "\n",
    "Demonstrating knowledge in Programming languages: Python, R, Java, JavaScript, C++, Unix;\n",
    "Demonstrating knowledge in Data Storage Technologies: SQL, NoSQL, Postgres, Neo4j, Hadoop, cloud-based databases such as GCP BigQuery, and different storage formats (e.g. Parquet, etc.);\n",
    "Demonstrating knowledge in Data Processing Tools: Python (Numpy, Pandas, etc.), Spark, cloud-based solutions such as GCP DataFlow;\n",
    "Demonstrating knowledge in Machine Learning Libraries: Python (scikit-learn, genism, etc.), TensorFlow, Keras, PyTorch, Spark MLlib, NLTK, spaCy;\n",
    "Demonstrating knowledge in NLU/NLP domain: Sentiment Analysis, Chatbots & Virtual Assistants, Text Classification, Text Extraction, Machine Translation, Text Summarization, Intent Classification, Speech Recognition, STT, TTS;\n",
    "Demonstrating knowledge in Visualization tools: Python (Matplotlib, Seaborn, bokeh, etc.), JavaScript (d3), third party libraries (Power BI, Tableau, Data Studio); and,\n",
    "Demonstrating knowledge in productionization and containerization technologies: GitHub, Flask, Docker, Kubernetes, Azure DevOps, GCP, Azure, AWS.\n"
   ]
  },
  {
   "cell_type": "code",
   "execution_count": 31,
   "id": "3e717176",
   "metadata": {},
   "outputs": [],
   "source": [
    "company_name = st.text_input(\"Company Name: \", \"Google\")\n",
    "role = st.text_input(\"What role are you applying for? \", \"Machine Learning Engineer\")\n",
    "contact_person = st.text_input(\"Who are you emailing? \", \"Technical Hiring Manager\")\n",
    "your_name = st.text_input(\"What is your name? \", \"Amber Teng\")\n",
    "personal_exp = st.text_input(\"I have experience in...\", \"natural language processing, fraud detection, statistical modeling, and machine learning algorithms. \")\n",
    "job_desc = st.text_input(\"I am excited about the job because...\", \"this role will allow me to work on technically challenging problems and create impactful solutions while working with an innovative team. \" )\n",
    "passion = st.text_input(\"I am passionate about...\", \"solving problems at the intersection of technology and social good.\")\n",
    "submit_button = st.form_submit_button(label='Submit')\n",
    "\n",
    "prompt = (\"Write a cover letter to \" + contact_person + \" from \" + your_name +\" for a \" + role + \" job at \" + company_name +\".\" + \" I have experience in \" +personal_exp + \" I am excited about the job because \" +job_desc + \" I am passionate about \"+ passion)"
   ]
  },
  {
   "cell_type": "code",
   "execution_count": 32,
   "id": "25582d0d",
   "metadata": {},
   "outputs": [
    {
     "data": {
      "text/plain": [
       "'Write a cover letter to Technical Hiring Manager from Amber Teng for a Machine Learning Engineer job at Google. I have experience in natural language processing, fraud detection, statistical modeling, and machine learning algorithms.  I am excited about the job because this role will allow me to work on technically challenging problems and create impactful solutions while working with an innovative team.  I am passionate about solving problems at the intersection of technology and social good.'"
      ]
     },
     "execution_count": 32,
     "metadata": {},
     "output_type": "execute_result"
    }
   ],
   "source": [
    "prompt"
   ]
  },
  {
   "cell_type": "code",
   "execution_count": null,
   "id": "8bf68a27",
   "metadata": {},
   "outputs": [],
   "source": []
  }
 ],
 "metadata": {
  "kernelspec": {
   "display_name": "Python 3 (ipykernel)",
   "language": "python",
   "name": "python3"
  },
  "language_info": {
   "codemirror_mode": {
    "name": "ipython",
    "version": 3
   },
   "file_extension": ".py",
   "mimetype": "text/x-python",
   "name": "python",
   "nbconvert_exporter": "python",
   "pygments_lexer": "ipython3",
   "version": "3.10.9"
  }
 },
 "nbformat": 4,
 "nbformat_minor": 5
}
