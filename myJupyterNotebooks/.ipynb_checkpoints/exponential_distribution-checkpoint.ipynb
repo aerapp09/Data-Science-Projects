{
 "cells": [
  {
   "cell_type": "markdown",
   "id": "5f5f9331",
   "metadata": {},
   "source": [
    "### Exponential Distribution"
   ]
  },
  {
   "cell_type": "code",
   "execution_count": 1,
   "id": "b2a5995a",
   "metadata": {},
   "outputs": [],
   "source": [
    "# Helps to handle skewed data\n",
    "# Original data to apply log transform must have only positive values"
   ]
  },
  {
   "cell_type": "code",
   "execution_count": null,
   "id": "aa48d83a",
   "metadata": {},
   "outputs": [],
   "source": []
  }
 ],
 "metadata": {
  "kernelspec": {
   "display_name": "Python 3 (ipykernel)",
   "language": "python",
   "name": "python3"
  },
  "language_info": {
   "codemirror_mode": {
    "name": "ipython",
    "version": 3
   },
   "file_extension": ".py",
   "mimetype": "text/x-python",
   "name": "python",
   "nbconvert_exporter": "python",
   "pygments_lexer": "ipython3",
   "version": "3.10.9"
  }
 },
 "nbformat": 4,
 "nbformat_minor": 5
}
