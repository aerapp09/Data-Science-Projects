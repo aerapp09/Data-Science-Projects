{
 "cells": [
  {
   "cell_type": "markdown",
   "id": "176dd8cf",
   "metadata": {},
   "source": [
    "### The goal is to compare the life expectancies of Asia and Africa in 1952"
   ]
  },
  {
   "cell_type": "code",
   "execution_count": 1,
   "id": "ef87b61d",
   "metadata": {},
   "outputs": [],
   "source": [
    "\n",
    "#import necessary libraries\n",
    "import pandas as pd\n",
    "from matplotlib import pyplot as plt"
   ]
  },
  {
   "cell_type": "code",
   "execution_count": 21,
   "id": "f8d68f1d",
   "metadata": {},
   "outputs": [],
   "source": [
    "#link csv file\n",
    "data = pd.read_csv('datasets/countries.csv')"
   ]
  },
  {
   "cell_type": "code",
   "execution_count": 4,
   "id": "313c63e2",
   "metadata": {},
   "outputs": [
    {
     "data": {
      "text/html": [
       "<div>\n",
       "<style scoped>\n",
       "    .dataframe tbody tr th:only-of-type {\n",
       "        vertical-align: middle;\n",
       "    }\n",
       "\n",
       "    .dataframe tbody tr th {\n",
       "        vertical-align: top;\n",
       "    }\n",
       "\n",
       "    .dataframe thead th {\n",
       "        text-align: right;\n",
       "    }\n",
       "</style>\n",
       "<table border=\"1\" class=\"dataframe\">\n",
       "  <thead>\n",
       "    <tr style=\"text-align: right;\">\n",
       "      <th></th>\n",
       "      <th>country</th>\n",
       "      <th>continent</th>\n",
       "      <th>year</th>\n",
       "      <th>lifeExpectancy</th>\n",
       "      <th>population</th>\n",
       "      <th>gdpPerCapita</th>\n",
       "    </tr>\n",
       "  </thead>\n",
       "  <tbody>\n",
       "    <tr>\n",
       "      <th>0</th>\n",
       "      <td>Afghanistan</td>\n",
       "      <td>Asia</td>\n",
       "      <td>1952</td>\n",
       "      <td>28.801</td>\n",
       "      <td>8425333</td>\n",
       "      <td>779.445314</td>\n",
       "    </tr>\n",
       "    <tr>\n",
       "      <th>1</th>\n",
       "      <td>Afghanistan</td>\n",
       "      <td>Asia</td>\n",
       "      <td>1957</td>\n",
       "      <td>30.332</td>\n",
       "      <td>9240934</td>\n",
       "      <td>820.853030</td>\n",
       "    </tr>\n",
       "    <tr>\n",
       "      <th>2</th>\n",
       "      <td>Afghanistan</td>\n",
       "      <td>Asia</td>\n",
       "      <td>1962</td>\n",
       "      <td>31.997</td>\n",
       "      <td>10267083</td>\n",
       "      <td>853.100710</td>\n",
       "    </tr>\n",
       "    <tr>\n",
       "      <th>3</th>\n",
       "      <td>Afghanistan</td>\n",
       "      <td>Asia</td>\n",
       "      <td>1967</td>\n",
       "      <td>34.020</td>\n",
       "      <td>11537966</td>\n",
       "      <td>836.197138</td>\n",
       "    </tr>\n",
       "    <tr>\n",
       "      <th>4</th>\n",
       "      <td>Afghanistan</td>\n",
       "      <td>Asia</td>\n",
       "      <td>1972</td>\n",
       "      <td>36.088</td>\n",
       "      <td>13079460</td>\n",
       "      <td>739.981106</td>\n",
       "    </tr>\n",
       "  </tbody>\n",
       "</table>\n",
       "</div>"
      ],
      "text/plain": [
       "       country continent  year  lifeExpectancy  population  gdpPerCapita\n",
       "0  Afghanistan      Asia  1952          28.801     8425333    779.445314\n",
       "1  Afghanistan      Asia  1957          30.332     9240934    820.853030\n",
       "2  Afghanistan      Asia  1962          31.997    10267083    853.100710\n",
       "3  Afghanistan      Asia  1967          34.020    11537966    836.197138\n",
       "4  Afghanistan      Asia  1972          36.088    13079460    739.981106"
      ]
     },
     "execution_count": 4,
     "metadata": {},
     "output_type": "execute_result"
    }
   ],
   "source": [
    "#get idea of data\n",
    "data.head()"
   ]
  },
  {
   "cell_type": "code",
   "execution_count": 5,
   "id": "360c80a9",
   "metadata": {},
   "outputs": [],
   "source": [
    "# create dataframe for year 1952\n",
    "data_1952 = data[data.year == 1952]"
   ]
  },
  {
   "cell_type": "code",
   "execution_count": 22,
   "id": "fca3361c",
   "metadata": {},
   "outputs": [],
   "source": [
    "#use dataframe to have sub dataframe for asia and africa\n",
    "asia_1952 = data_1952[data_1952.continent == 'Asia']\n",
    "africa_1952 = data_1952[data_1952.continent == 'Africa']"
   ]
  },
  {
   "cell_type": "code",
   "execution_count": 7,
   "id": "10b04975",
   "metadata": {
    "scrolled": true
   },
   "outputs": [
    {
     "data": {
      "text/html": [
       "<div>\n",
       "<style scoped>\n",
       "    .dataframe tbody tr th:only-of-type {\n",
       "        vertical-align: middle;\n",
       "    }\n",
       "\n",
       "    .dataframe tbody tr th {\n",
       "        vertical-align: top;\n",
       "    }\n",
       "\n",
       "    .dataframe thead th {\n",
       "        text-align: right;\n",
       "    }\n",
       "</style>\n",
       "<table border=\"1\" class=\"dataframe\">\n",
       "  <thead>\n",
       "    <tr style=\"text-align: right;\">\n",
       "      <th></th>\n",
       "      <th>country</th>\n",
       "      <th>continent</th>\n",
       "      <th>year</th>\n",
       "      <th>lifeExpectancy</th>\n",
       "      <th>population</th>\n",
       "      <th>gdpPerCapita</th>\n",
       "    </tr>\n",
       "  </thead>\n",
       "  <tbody>\n",
       "    <tr>\n",
       "      <th>0</th>\n",
       "      <td>Afghanistan</td>\n",
       "      <td>Asia</td>\n",
       "      <td>1952</td>\n",
       "      <td>28.801</td>\n",
       "      <td>8425333</td>\n",
       "      <td>779.445314</td>\n",
       "    </tr>\n",
       "    <tr>\n",
       "      <th>84</th>\n",
       "      <td>Bahrain</td>\n",
       "      <td>Asia</td>\n",
       "      <td>1952</td>\n",
       "      <td>50.939</td>\n",
       "      <td>120447</td>\n",
       "      <td>9867.084765</td>\n",
       "    </tr>\n",
       "    <tr>\n",
       "      <th>96</th>\n",
       "      <td>Bangladesh</td>\n",
       "      <td>Asia</td>\n",
       "      <td>1952</td>\n",
       "      <td>37.484</td>\n",
       "      <td>46886859</td>\n",
       "      <td>684.244172</td>\n",
       "    </tr>\n",
       "    <tr>\n",
       "      <th>216</th>\n",
       "      <td>Cambodia</td>\n",
       "      <td>Asia</td>\n",
       "      <td>1952</td>\n",
       "      <td>39.417</td>\n",
       "      <td>4693836</td>\n",
       "      <td>368.469286</td>\n",
       "    </tr>\n",
       "    <tr>\n",
       "      <th>288</th>\n",
       "      <td>China</td>\n",
       "      <td>Asia</td>\n",
       "      <td>1952</td>\n",
       "      <td>44.000</td>\n",
       "      <td>556263527</td>\n",
       "      <td>400.448611</td>\n",
       "    </tr>\n",
       "  </tbody>\n",
       "</table>\n",
       "</div>"
      ],
      "text/plain": [
       "         country continent  year  lifeExpectancy  population  gdpPerCapita\n",
       "0    Afghanistan      Asia  1952          28.801     8425333    779.445314\n",
       "84       Bahrain      Asia  1952          50.939      120447   9867.084765\n",
       "96    Bangladesh      Asia  1952          37.484    46886859    684.244172\n",
       "216     Cambodia      Asia  1952          39.417     4693836    368.469286\n",
       "288        China      Asia  1952          44.000   556263527    400.448611"
      ]
     },
     "execution_count": 7,
     "metadata": {},
     "output_type": "execute_result"
    }
   ],
   "source": [
    "asia_1952.head()"
   ]
  },
  {
   "cell_type": "code",
   "execution_count": 9,
   "id": "16005485",
   "metadata": {},
   "outputs": [
    {
     "name": "stdout",
     "output_type": "stream",
     "text": [
      "33\n",
      "52\n"
     ]
    }
   ],
   "source": [
    "print(len(set(asia_1952.lifeExpectancy)))\n",
    "print(len(set(africa_1952.lifeExpectancy)))"
   ]
  },
  {
   "cell_type": "code",
   "execution_count": 23,
   "id": "33663667",
   "metadata": {},
   "outputs": [
    {
     "name": "stdout",
     "output_type": "stream",
     "text": [
      "Mean Life Expectancy in Asia:\n",
      "46.31439393939394\n",
      "Mean Life Expectancy in Africa\n",
      "39.13549999999999\n",
      "Median Life Expectancy in Asia:\n",
      "44.869\n",
      "Median Life Expectancy in Africa\n",
      "38.833\n"
     ]
    }
   ],
   "source": [
    "#get view of data and what to expect\n",
    "print('Mean Life Expectancy in Asia:')\n",
    "print(asia_1952.lifeExpectancy.mean())\n",
    "print('Mean Life Expectancy in Africa')\n",
    "print(africa_1952.lifeExpectancy.mean())\n",
    "print('Median Life Expectancy in Asia:')\n",
    "print(asia_1952.lifeExpectancy.median())\n",
    "print('Median Life Expectancy in Africa')\n",
    "print(africa_1952.lifeExpectancy.median())"
   ]
  },
  {
   "cell_type": "code",
   "execution_count": 24,
   "id": "e8021bf5",
   "metadata": {},
   "outputs": [
    {
     "data": {
      "image/png": "[encoded data removed]",
      "text/plain": [
       "<Figure size 640x480 with 2 Axes>"
      ]
     },
     "metadata": {},
     "output_type": "display_data"
    }
   ],
   "source": [
    "#use subplots to plot both histograms to visually compare data\n",
    "bins = 20\n",
    "plt.subplot(2,1,1)\n",
    "plt.title('Distribution of Life Expectancy')\n",
    "plt.hist(africa_1952.lifeExpectancy, bins, edgecolor='black', range = (25, 55) )\n",
    "plt.ylabel('Africa')\n",
    "plt.subplot(2,1,2)\n",
    "plt.hist(asia_1952.lifeExpectancy, bins, edgecolor='black', range = (25, 70))\n",
    "plt.ylabel('Asia')\n",
    "plt.xlabel('Years')\n",
    "plt.show()"
   ]
  },
  {
   "cell_type": "code",
   "execution_count": null,
   "id": "1f1c4f5f",
   "metadata": {},
   "outputs": [],
   "source": []
  }
 ],
 "metadata": {
  "kernelspec": {
   "display_name": "Python 3 (ipykernel)",
   "language": "python",
   "name": "python3"
  },
  "language_info": {
   "codemirror_mode": {
    "name": "ipython",
    "version": 3
   },
   "file_extension": ".py",
   "mimetype": "text/x-python",
   "name": "python",
   "nbconvert_exporter": "python",
   "pygments_lexer": "ipython3",
   "version": "3.10.9"
  }
 },
 "nbformat": 4,
 "nbformat_minor": 5
}
