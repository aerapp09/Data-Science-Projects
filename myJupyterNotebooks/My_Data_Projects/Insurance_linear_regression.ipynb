{
 "cells": [
  {
   "cell_type": "markdown",
   "id": "077f1a70",
   "metadata": {},
   "source": [
    "## Insurance linear regression by smoker and charge"
   ]
  },
  {
   "cell_type": "code",
   "execution_count": 14,
   "id": "006c21a2",
   "metadata": {},
   "outputs": [],
   "source": [
    "#import relevant libraries\n",
    "import numpy as np\n",
    "import pandas as pd \n",
    "import matplotlib.pyplot as plt\n",
    "import seaborn as sns\n",
    "from sklearn.preprocessing import LabelEncoder, OneHotEncoder\n",
    "from sklearn.compose import ColumnTransformer"
   ]
  },
  {
   "cell_type": "code",
   "execution_count": 2,
   "id": "dacafd64",
   "metadata": {},
   "outputs": [],
   "source": [
    "#import dataset\n",
    "insurance = pd.read_csv('datasets/insuranceData.csv')"
   ]
  },
  {
   "cell_type": "code",
   "execution_count": 3,
   "id": "a90a5b3c",
   "metadata": {},
   "outputs": [
    {
     "data": {
      "text/html": [
       "<div>\n",
       "<style scoped>\n",
       "    .dataframe tbody tr th:only-of-type {\n",
       "        vertical-align: middle;\n",
       "    }\n",
       "\n",
       "    .dataframe tbody tr th {\n",
       "        vertical-align: top;\n",
       "    }\n",
       "\n",
       "    .dataframe thead th {\n",
       "        text-align: right;\n",
       "    }\n",
       "</style>\n",
       "<table border=\"1\" class=\"dataframe\">\n",
       "  <thead>\n",
       "    <tr style=\"text-align: right;\">\n",
       "      <th></th>\n",
       "      <th>age</th>\n",
       "      <th>bmi</th>\n",
       "      <th>children</th>\n",
       "      <th>smoker</th>\n",
       "      <th>charges</th>\n",
       "    </tr>\n",
       "  </thead>\n",
       "  <tbody>\n",
       "    <tr>\n",
       "      <th>0</th>\n",
       "      <td>19</td>\n",
       "      <td>27.900</td>\n",
       "      <td>0</td>\n",
       "      <td>yes</td>\n",
       "      <td>16884.92400</td>\n",
       "    </tr>\n",
       "    <tr>\n",
       "      <th>1</th>\n",
       "      <td>18</td>\n",
       "      <td>33.770</td>\n",
       "      <td>1</td>\n",
       "      <td>no</td>\n",
       "      <td>1725.55230</td>\n",
       "    </tr>\n",
       "    <tr>\n",
       "      <th>2</th>\n",
       "      <td>28</td>\n",
       "      <td>33.000</td>\n",
       "      <td>3</td>\n",
       "      <td>no</td>\n",
       "      <td>4449.46200</td>\n",
       "    </tr>\n",
       "    <tr>\n",
       "      <th>3</th>\n",
       "      <td>33</td>\n",
       "      <td>22.705</td>\n",
       "      <td>0</td>\n",
       "      <td>no</td>\n",
       "      <td>21984.47061</td>\n",
       "    </tr>\n",
       "    <tr>\n",
       "      <th>4</th>\n",
       "      <td>32</td>\n",
       "      <td>28.880</td>\n",
       "      <td>0</td>\n",
       "      <td>no</td>\n",
       "      <td>3866.85520</td>\n",
       "    </tr>\n",
       "  </tbody>\n",
       "</table>\n",
       "</div>"
      ],
      "text/plain": [
       "   age     bmi  children smoker      charges\n",
       "0   19  27.900         0    yes  16884.92400\n",
       "1   18  33.770         1     no   1725.55230\n",
       "2   28  33.000         3     no   4449.46200\n",
       "3   33  22.705         0     no  21984.47061\n",
       "4   32  28.880         0     no   3866.85520"
      ]
     },
     "execution_count": 3,
     "metadata": {},
     "output_type": "execute_result"
    }
   ],
   "source": [
    "insurance.head()"
   ]
  },
  {
   "cell_type": "code",
   "execution_count": 4,
   "id": "0a189e24",
   "metadata": {},
   "outputs": [],
   "source": [
    "#X dataset will be all rows and all columns except the last one.\n",
    "#y dataset will be all rows and only the last column 'charges'. This will be our dependent variable\n",
    "X = insurance.iloc[:, :-1].values\n",
    "y = insurance.iloc[:, 4].values"
   ]
  },
  {
   "cell_type": "code",
   "execution_count": 5,
   "id": "8cfcd312",
   "metadata": {},
   "outputs": [
    {
     "data": {
      "text/plain": [
       "array([[19, 27.9, 0, 'yes'],\n",
       "       [18, 33.77, 1, 'no'],\n",
       "       [28, 33.0, 3, 'no'],\n",
       "       ...,\n",
       "       [18, 36.85, 0, 'no'],\n",
       "       [21, 25.8, 0, 'no'],\n",
       "       [61, 29.07, 0, 'yes']], dtype=object)"
      ]
     },
     "execution_count": 5,
     "metadata": {},
     "output_type": "execute_result"
    }
   ],
   "source": [
    "X"
   ]
  },
  {
   "cell_type": "code",
   "execution_count": 12,
   "id": "0af847c1",
   "metadata": {},
   "outputs": [
    {
     "data": {
      "text/plain": [
       "array([16884.924 ,  1725.5523,  4449.462 , ...,  1629.8335,  2007.945 ,\n",
       "       29141.3603])"
      ]
     },
     "execution_count": 12,
     "metadata": {},
     "output_type": "execute_result"
    }
   ],
   "source": [
    "y"
   ]
  },
  {
   "cell_type": "code",
   "execution_count": 15,
   "id": "335440a5",
   "metadata": {},
   "outputs": [
    {
     "name": "stderr",
     "output_type": "stream",
     "text": [
      "C:\\Users\\aerap\\AppData\\Local\\Temp\\ipykernel_17848\\4168551737.py:2: FutureWarning: The default value of numeric_only in DataFrame.corr is deprecated. In a future version, it will default to False. Select only valid columns or specify the value of numeric_only to silence this warning.\n",
      "  sns.heatmap(insurance.corr())\n"
     ]
    },
    {
     "data": {
      "text/plain": [
       "<Axes: >"
      ]
     },
     "execution_count": 15,
     "metadata": {},
     "output_type": "execute_result"
    },
    {
     "data": {
      "image/png": "[encoded data removed]",
      "text/plain": [
       "<Figure size 640x480 with 2 Axes>"
      ]
     },
     "metadata": {},
     "output_type": "display_data"
    }
   ],
   "source": [
    "#heatmap getting idea of relationships of correlation\n",
    "sns.heatmap(insurance.corr())"
   ]
  },
  {
   "cell_type": "code",
   "execution_count": 6,
   "id": "a094227b",
   "metadata": {},
   "outputs": [],
   "source": [
    "#encode the 'yes' 'no' data in 'smoker' column to 1s and 0s\n",
    "labelencoder = LabelEncoder()\n",
    "X[:, 3] = labelencoder.fit_transform(X[:, 3])"
   ]
  },
  {
   "cell_type": "code",
   "execution_count": 7,
   "id": "d21540aa",
   "metadata": {},
   "outputs": [],
   "source": [
    "#since our model may confuse the data as a greater or equal situation instead of as a numeral label to catergorical label relationship\n",
    "#we use one hot encoder. This way the data is transformed from the labelencoder 1s and 0s to an array which the computer can \n",
    "#better understand as 'catergorical' data\n",
    "onehotencoder = ColumnTransformer([('smoker', OneHotEncoder(), [3])], remainder = 'passthrough')\n",
    "X = onehotencoder.fit_transform(X)"
   ]
  },
  {
   "cell_type": "code",
   "execution_count": 8,
   "id": "f911ba2f",
   "metadata": {},
   "outputs": [
    {
     "data": {
      "text/plain": [
       "array([[0.0, 1.0, 19, 27.9, 0],\n",
       "       [1.0, 0.0, 18, 33.77, 1],\n",
       "       [1.0, 0.0, 28, 33.0, 3],\n",
       "       ...,\n",
       "       [1.0, 0.0, 18, 36.85, 0],\n",
       "       [1.0, 0.0, 21, 25.8, 0],\n",
       "       [0.0, 1.0, 61, 29.07, 0]], dtype=object)"
      ]
     },
     "execution_count": 8,
     "metadata": {},
     "output_type": "execute_result"
    }
   ],
   "source": [
    "X"
   ]
  },
  {
   "cell_type": "code",
   "execution_count": 9,
   "id": "8f5538fd",
   "metadata": {},
   "outputs": [],
   "source": [
    "#as you can see abover another column was added during onehotencoding. This is removed with this:\n",
    "X = X[:, 1:]"
   ]
  },
  {
   "cell_type": "code",
   "execution_count": 10,
   "id": "2065c4f5",
   "metadata": {},
   "outputs": [
    {
     "data": {
      "text/plain": [
       "array([[1.0, 19, 27.9, 0],\n",
       "       [0.0, 18, 33.77, 1],\n",
       "       [0.0, 28, 33.0, 3],\n",
       "       ...,\n",
       "       [0.0, 18, 36.85, 0],\n",
       "       [0.0, 21, 25.8, 0],\n",
       "       [1.0, 61, 29.07, 0]], dtype=object)"
      ]
     },
     "execution_count": 10,
     "metadata": {},
     "output_type": "execute_result"
    }
   ],
   "source": [
    "#we are left with our original values \n",
    "X"
   ]
  },
  {
   "cell_type": "code",
   "execution_count": 16,
   "id": "0b3333d1",
   "metadata": {},
   "outputs": [],
   "source": [
    "#splitting the data to training and testing set\n",
    "from sklearn.model_selection import train_test_split\n",
    "x_train, x_test, y_train, y_test = train_test_split(X, y, test_size = 0.15, random_state=0 )"
   ]
  },
  {
   "cell_type": "code",
   "execution_count": 17,
   "id": "91537767",
   "metadata": {
    "scrolled": true
   },
   "outputs": [
    {
     "data": {
      "text/html": [
       "<style>#sk-container-id-1 {color: black;background-color: white;}#sk-container-id-1 pre{padding: 0;}#sk-container-id-1 div.sk-toggleable {background-color: white;}#sk-container-id-1 label.sk-toggleable__label {cursor: pointer;display: block;width: 100%;margin-bottom: 0;padding: 0.3em;box-sizing: border-box;text-align: center;}#sk-container-id-1 label.sk-toggleable__label-arrow:before {content: \"▸\";float: left;margin-right: 0.25em;color: #696969;}#sk-container-id-1 label.sk-toggleable__label-arrow:hover:before {color: black;}#sk-container-id-1 div.sk-estimator:hover label.sk-toggleable__label-arrow:before {color: black;}#sk-container-id-1 div.sk-toggleable__content {max-height: 0;max-width: 0;overflow: hidden;text-align: left;background-color: #f0f8ff;}#sk-container-id-1 div.sk-toggleable__content pre {margin: 0.2em;color: black;border-radius: 0.25em;background-color: #f0f8ff;}#sk-container-id-1 input.sk-toggleable__control:checked~div.sk-toggleable__content {max-height: 200px;max-width: 100%;overflow: auto;}#sk-container-id-1 input.sk-toggleable__control:checked~label.sk-toggleable__label-arrow:before {content: \"▾\";}#sk-container-id-1 div.sk-estimator input.sk-toggleable__control:checked~label.sk-toggleable__label {background-color: #d4ebff;}#sk-container-id-1 div.sk-label input.sk-toggleable__control:checked~label.sk-toggleable__label {background-color: #d4ebff;}#sk-container-id-1 input.sk-hidden--visually {border: 0;clip: rect(1px 1px 1px 1px);clip: rect(1px, 1px, 1px, 1px);height: 1px;margin: -1px;overflow: hidden;padding: 0;position: absolute;width: 1px;}#sk-container-id-1 div.sk-estimator {font-family: monospace;background-color: #f0f8ff;border: 1px dotted black;border-radius: 0.25em;box-sizing: border-box;margin-bottom: 0.5em;}#sk-container-id-1 div.sk-estimator:hover {background-color: #d4ebff;}#sk-container-id-1 div.sk-parallel-item::after {content: \"\";width: 100%;border-bottom: 1px solid gray;flex-grow: 1;}#sk-container-id-1 div.sk-label:hover label.sk-toggleable__label {background-color: #d4ebff;}#sk-container-id-1 div.sk-serial::before {content: \"\";position: absolute;border-left: 1px solid gray;box-sizing: border-box;top: 0;bottom: 0;left: 50%;z-index: 0;}#sk-container-id-1 div.sk-serial {display: flex;flex-direction: column;align-items: center;background-color: white;padding-right: 0.2em;padding-left: 0.2em;position: relative;}#sk-container-id-1 div.sk-item {position: relative;z-index: 1;}#sk-container-id-1 div.sk-parallel {display: flex;align-items: stretch;justify-content: center;background-color: white;position: relative;}#sk-container-id-1 div.sk-item::before, #sk-container-id-1 div.sk-parallel-item::before {content: \"\";position: absolute;border-left: 1px solid gray;box-sizing: border-box;top: 0;bottom: 0;left: 50%;z-index: -1;}#sk-container-id-1 div.sk-parallel-item {display: flex;flex-direction: column;z-index: 1;position: relative;background-color: white;}#sk-container-id-1 div.sk-parallel-item:first-child::after {align-self: flex-end;width: 50%;}#sk-container-id-1 div.sk-parallel-item:last-child::after {align-self: flex-start;width: 50%;}#sk-container-id-1 div.sk-parallel-item:only-child::after {width: 0;}#sk-container-id-1 div.sk-dashed-wrapped {border: 1px dashed gray;margin: 0 0.4em 0.5em 0.4em;box-sizing: border-box;padding-bottom: 0.4em;background-color: white;}#sk-container-id-1 div.sk-label label {font-family: monospace;font-weight: bold;display: inline-block;line-height: 1.2em;}#sk-container-id-1 div.sk-label-container {text-align: center;}#sk-container-id-1 div.sk-container {/* jupyter's `normalize.less` sets `[hidden] { display: none; }` but bootstrap.min.css set `[hidden] { display: none !important; }` so we also need the `!important` here to be able to override the default hidden behavior on the sphinx rendered scikit-learn.org. See: https://github.com/scikit-learn/scikit-learn/issues/21755 */display: inline-block !important;position: relative;}#sk-container-id-1 div.sk-text-repr-fallback {display: none;}</style><div id=\"sk-container-id-1\" class=\"sk-top-container\"><div class=\"sk-text-repr-fallback\"><pre>LinearRegression()</pre><b>In a Jupyter environment, please rerun this cell to show the HTML representation or trust the notebook. <br />On GitHub, the HTML representation is unable to render, please try loading this page with nbviewer.org.</b></div><div class=\"sk-container\" hidden><div class=\"sk-item\"><div class=\"sk-estimator sk-toggleable\"><input class=\"sk-toggleable__control sk-hidden--visually\" id=\"sk-estimator-id-1\" type=\"checkbox\" checked><label for=\"sk-estimator-id-1\" class=\"sk-toggleable__label sk-toggleable__label-arrow\">LinearRegression</label><div class=\"sk-toggleable__content\"><pre>LinearRegression()</pre></div></div></div></div></div>"
      ],
      "text/plain": [
       "LinearRegression()"
      ]
     },
     "execution_count": 17,
     "metadata": {},
     "output_type": "execute_result"
    }
   ],
   "source": [
    "from sklearn.linear_model import LinearRegression\n",
    "model_fit = LinearRegression()\n",
    "model_fit.fit(x_train, y_train)"
   ]
  },
  {
   "cell_type": "code",
   "execution_count": 18,
   "id": "b8f028fb",
   "metadata": {},
   "outputs": [
    {
     "data": {
      "text/html": [
       "<style>#sk-container-id-2 {color: black;background-color: white;}#sk-container-id-2 pre{padding: 0;}#sk-container-id-2 div.sk-toggleable {background-color: white;}#sk-container-id-2 label.sk-toggleable__label {cursor: pointer;display: block;width: 100%;margin-bottom: 0;padding: 0.3em;box-sizing: border-box;text-align: center;}#sk-container-id-2 label.sk-toggleable__label-arrow:before {content: \"▸\";float: left;margin-right: 0.25em;color: #696969;}#sk-container-id-2 label.sk-toggleable__label-arrow:hover:before {color: black;}#sk-container-id-2 div.sk-estimator:hover label.sk-toggleable__label-arrow:before {color: black;}#sk-container-id-2 div.sk-toggleable__content {max-height: 0;max-width: 0;overflow: hidden;text-align: left;background-color: #f0f8ff;}#sk-container-id-2 div.sk-toggleable__content pre {margin: 0.2em;color: black;border-radius: 0.25em;background-color: #f0f8ff;}#sk-container-id-2 input.sk-toggleable__control:checked~div.sk-toggleable__content {max-height: 200px;max-width: 100%;overflow: auto;}#sk-container-id-2 input.sk-toggleable__control:checked~label.sk-toggleable__label-arrow:before {content: \"▾\";}#sk-container-id-2 div.sk-estimator input.sk-toggleable__control:checked~label.sk-toggleable__label {background-color: #d4ebff;}#sk-container-id-2 div.sk-label input.sk-toggleable__control:checked~label.sk-toggleable__label {background-color: #d4ebff;}#sk-container-id-2 input.sk-hidden--visually {border: 0;clip: rect(1px 1px 1px 1px);clip: rect(1px, 1px, 1px, 1px);height: 1px;margin: -1px;overflow: hidden;padding: 0;position: absolute;width: 1px;}#sk-container-id-2 div.sk-estimator {font-family: monospace;background-color: #f0f8ff;border: 1px dotted black;border-radius: 0.25em;box-sizing: border-box;margin-bottom: 0.5em;}#sk-container-id-2 div.sk-estimator:hover {background-color: #d4ebff;}#sk-container-id-2 div.sk-parallel-item::after {content: \"\";width: 100%;border-bottom: 1px solid gray;flex-grow: 1;}#sk-container-id-2 div.sk-label:hover label.sk-toggleable__label {background-color: #d4ebff;}#sk-container-id-2 div.sk-serial::before {content: \"\";position: absolute;border-left: 1px solid gray;box-sizing: border-box;top: 0;bottom: 0;left: 50%;z-index: 0;}#sk-container-id-2 div.sk-serial {display: flex;flex-direction: column;align-items: center;background-color: white;padding-right: 0.2em;padding-left: 0.2em;position: relative;}#sk-container-id-2 div.sk-item {position: relative;z-index: 1;}#sk-container-id-2 div.sk-parallel {display: flex;align-items: stretch;justify-content: center;background-color: white;position: relative;}#sk-container-id-2 div.sk-item::before, #sk-container-id-2 div.sk-parallel-item::before {content: \"\";position: absolute;border-left: 1px solid gray;box-sizing: border-box;top: 0;bottom: 0;left: 50%;z-index: -1;}#sk-container-id-2 div.sk-parallel-item {display: flex;flex-direction: column;z-index: 1;position: relative;background-color: white;}#sk-container-id-2 div.sk-parallel-item:first-child::after {align-self: flex-end;width: 50%;}#sk-container-id-2 div.sk-parallel-item:last-child::after {align-self: flex-start;width: 50%;}#sk-container-id-2 div.sk-parallel-item:only-child::after {width: 0;}#sk-container-id-2 div.sk-dashed-wrapped {border: 1px dashed gray;margin: 0 0.4em 0.5em 0.4em;box-sizing: border-box;padding-bottom: 0.4em;background-color: white;}#sk-container-id-2 div.sk-label label {font-family: monospace;font-weight: bold;display: inline-block;line-height: 1.2em;}#sk-container-id-2 div.sk-label-container {text-align: center;}#sk-container-id-2 div.sk-container {/* jupyter's `normalize.less` sets `[hidden] { display: none; }` but bootstrap.min.css set `[hidden] { display: none !important; }` so we also need the `!important` here to be able to override the default hidden behavior on the sphinx rendered scikit-learn.org. See: https://github.com/scikit-learn/scikit-learn/issues/21755 */display: inline-block !important;position: relative;}#sk-container-id-2 div.sk-text-repr-fallback {display: none;}</style><div id=\"sk-container-id-2\" class=\"sk-top-container\"><div class=\"sk-text-repr-fallback\"><pre>LinearRegression()</pre><b>In a Jupyter environment, please rerun this cell to show the HTML representation or trust the notebook. <br />On GitHub, the HTML representation is unable to render, please try loading this page with nbviewer.org.</b></div><div class=\"sk-container\" hidden><div class=\"sk-item\"><div class=\"sk-estimator sk-toggleable\"><input class=\"sk-toggleable__control sk-hidden--visually\" id=\"sk-estimator-id-2\" type=\"checkbox\" checked><label for=\"sk-estimator-id-2\" class=\"sk-toggleable__label sk-toggleable__label-arrow\">LinearRegression</label><div class=\"sk-toggleable__content\"><pre>LinearRegression()</pre></div></div></div></div></div>"
      ],
      "text/plain": [
       "LinearRegression()"
      ]
     },
     "execution_count": 18,
     "metadata": {},
     "output_type": "execute_result"
    }
   ],
   "source": [
    "#training our linear regression on our train data\n",
    "regressor = LinearRegression()\n",
    "regressor.fit(x_train, y_train)"
   ]
  },
  {
   "cell_type": "code",
   "execution_count": 24,
   "id": "bc2b2514",
   "metadata": {},
   "outputs": [
    {
     "data": {
      "text/plain": [
       "array([ 1.14589037e+04,  9.92563631e+03,  3.78118827e+04,  1.58808943e+04,\n",
       "        6.97360055e+03,  3.68353076e+03,  1.15342243e+03,  1.39982132e+04,\n",
       "        8.75503190e+03,  7.23945973e+03,  4.22918693e+03,  1.01339013e+04,\n",
       "        9.07255566e+03,  4.34700013e+03,  2.78291848e+04,  1.11703666e+04,\n",
       "        1.12276150e+04,  5.55254705e+03,  8.02828014e+03,  2.67296924e+04,\n",
       "        3.36425305e+04,  1.40398303e+04,  1.12405201e+04,  3.27140150e+04,\n",
       "        4.50454593e+03,  8.59659654e+03,  8.77241144e+02,  1.01373043e+04,\n",
       "        4.28492066e+03,  1.01976920e+04,  8.78895560e+03,  4.03641538e+04,\n",
       "        1.58290309e+04,  1.40146947e+04,  2.45685410e+04,  4.71532278e+03,\n",
       "        1.28534755e+04,  3.09849097e+04,  3.33370702e+04,  3.84806679e+03,\n",
       "        3.71745446e+03,  4.46372948e+03,  3.02320057e+04,  3.92297404e+04,\n",
       "        2.81489195e+04,  4.76793034e+03,  1.10671287e+04,  7.69629560e+03,\n",
       "        3.27251571e+03,  1.07866355e+04,  5.10182957e+03,  3.20203963e+03,\n",
       "        3.34514718e+04,  3.79059603e+04,  1.62210612e+04,  6.55375807e+03,\n",
       "        6.03962200e+03,  9.33423741e+03,  9.42051566e+03,  1.16571669e+04,\n",
       "        2.15427216e+03,  3.87761003e+04,  1.52661513e+04,  1.20359803e+04,\n",
       "        1.34258401e+04,  1.41136120e+04,  2.63388844e+04,  3.19793664e+04,\n",
       "        1.39236586e+03,  9.90206715e+03,  1.26961634e+04,  1.20254895e+04,\n",
       "        2.56707224e+04,  1.59116896e+04,  1.11384550e+04,  1.22380944e+04,\n",
       "        7.02957018e+03,  1.00039744e+04,  2.98846344e+04,  3.93594422e+04,\n",
       "        1.16055673e+04,  3.74420345e+04,  3.98522832e+03,  9.67585167e+03,\n",
       "        3.43552431e+04,  2.94702464e+04,  8.65281064e+03,  4.67719537e+03,\n",
       "        1.23972825e+04,  3.07206751e+04,  9.39626041e+03,  1.16996644e+04,\n",
       "        7.63223192e+03,  9.36396821e+03,  7.84432851e+03,  6.78367752e+03,\n",
       "        3.56449525e+04,  3.35503891e+04,  7.34486752e+03,  1.52079422e+04,\n",
       "        4.38072891e+03,  8.51584401e+03,  6.65109180e+03,  3.19768329e+04,\n",
       "        3.28792263e+04,  1.93019872e+03,  9.51421898e+03,  6.34571818e+03,\n",
       "        1.40170897e+04,  3.75802218e+04,  1.00963409e+04,  1.06706218e+04,\n",
       "        1.00270655e+04,  2.65471687e+04,  4.01644238e+04,  8.06640755e+03,\n",
       "        7.42504831e+02,  9.39367738e+03,  1.54005651e+04,  9.39596641e+03,\n",
       "        3.55303173e+04,  7.31748222e+03,  1.70580108e+04,  8.97597693e+03,\n",
       "        8.57645673e+03,  2.91238620e+03,  3.26101715e+04,  3.15198005e+04,\n",
       "        3.98013995e+04,  5.21650580e+03,  9.72867352e+03,  3.91521098e+03,\n",
       "        8.04609219e+03,  8.34071981e+03,  3.21192734e+04,  3.03317732e+04,\n",
       "        3.04424407e+04,  9.29548490e+03,  3.31233297e+04,  3.18350276e+03,\n",
       "        3.41634492e+03,  1.09942058e+04,  1.34111650e+04,  1.23443632e+04,\n",
       "        5.33160202e+03,  1.58911104e+04,  1.52191168e+04,  2.30537539e+03,\n",
       "       -1.84150814e+01,  1.04854764e+04,  6.97460856e+03,  3.20932203e+04,\n",
       "        1.18611501e+04,  2.74518214e+03,  5.99849381e+03,  8.28023473e+03,\n",
       "        4.17702037e+03,  2.53870646e+03,  1.11578529e+04,  1.22066067e+04,\n",
       "        6.69609259e+03,  1.66205210e+04,  1.17031347e+04,  1.41761804e+04,\n",
       "        2.90660747e+03,  6.68839918e+03,  2.36640858e+04,  7.06113982e+03,\n",
       "        5.07267659e+03,  5.37835277e+03,  6.44486058e+03,  4.76778334e+03,\n",
       "        9.74768850e+03,  5.66782902e+03,  5.98124877e+03,  6.95250616e+03,\n",
       "        3.37094410e+03,  5.53529120e+03,  3.76850153e+04,  1.09398246e+03,\n",
       "        1.23671038e+04,  8.70835007e+03,  1.34948882e+04,  5.74374191e+03,\n",
       "        4.86955443e+03,  3.61797652e+04,  3.86634838e+03,  2.37373107e+03,\n",
       "        1.49510204e+04,  1.21081784e+04,  3.47279837e+04,  5.17809520e+03,\n",
       "        6.03813588e+03,  3.19019458e+04,  5.84903288e+03,  2.52063914e+03,\n",
       "        7.95187833e+03,  9.38350228e+03,  8.24790542e+03,  5.60763630e+03,\n",
       "        1.26253152e+04])"
      ]
     },
     "execution_count": 24,
     "metadata": {},
     "output_type": "execute_result"
    }
   ],
   "source": [
    "#using the linear regression and the predict function, using the x test data we \n",
    "#set up a variable to predict values based on given test values\n",
    "#the reason we don't use the x_train data is that the data was trained by that data\n",
    "#if we used it it could show excellent correlation but when given new data will show less correlation\n",
    "y_pred = regressor.predict(x_test)\n",
    "y_pred"
   ]
  },
  {
   "cell_type": "code",
   "execution_count": 21,
   "id": "2f62cff6",
   "metadata": {},
   "outputs": [
    {
     "name": "stdout",
     "output_type": "stream",
     "text": [
      "[23699.70723511   254.72171877   312.84193584   429.55191964]\n"
     ]
    }
   ],
   "source": [
    "#short detour showing the coefficients in our regression \n",
    "print(regressor.coef_)"
   ]
  },
  {
   "cell_type": "code",
   "execution_count": 25,
   "id": "472e87a5",
   "metadata": {},
   "outputs": [
    {
     "name": "stdout",
     "output_type": "stream",
     "text": [
      "-11664.004052172008\n"
     ]
    }
   ],
   "source": [
    "#if you can do regressor coefficient you can do regressor intercept\n",
    "print(regressor.intercept_)"
   ]
  },
  {
   "cell_type": "code",
   "execution_count": 23,
   "id": "83bf6f3a",
   "metadata": {},
   "outputs": [
    {
     "data": {
      "text/plain": [
       "0.7904465130093583"
      ]
     },
     "execution_count": 23,
     "metadata": {},
     "output_type": "execute_result"
    }
   ],
   "source": [
    "#so we can attribute 80% of the variability in the charges to the given independent variables\n",
    "from sklearn.metrics import r2_score\n",
    "r2_score(y_test, y_pred)"
   ]
  },
  {
   "cell_type": "code",
   "execution_count": null,
   "id": "5368e4ac",
   "metadata": {},
   "outputs": [],
   "source": []
  }
 ],
 "metadata": {
  "kernelspec": {
   "display_name": "Python 3 (ipykernel)",
   "language": "python",
   "name": "python3"
  },
  "language_info": {
   "codemirror_mode": {
    "name": "ipython",
    "version": 3
   },
   "file_extension": ".py",
   "mimetype": "text/x-python",
   "name": "python",
   "nbconvert_exporter": "python",
   "pygments_lexer": "ipython3",
   "version": "3.10.9"
  }
 },
 "nbformat": 4,
 "nbformat_minor": 5
}
