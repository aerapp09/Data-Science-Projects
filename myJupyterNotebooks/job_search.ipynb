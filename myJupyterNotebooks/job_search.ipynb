{
 "cells": [
  {
   "attachments": {},
   "cell_type": "markdown",
   "id": "1b494323",
   "metadata": {},
   "source": [
    "# Begin Search\n",
    "Start at the top by importing the resume below"
   ]
  },
  {
   "cell_type": "code",
   "execution_count": 2,
   "id": "2ec09d71",
   "metadata": {},
   "outputs": [],
   "source": [
    "f = open('datasets/Resume_2023.txt', 'r')\n",
    "resume = f.read()"
   ]
  },
  {
   "cell_type": "code",
   "execution_count": 3,
   "id": "4f3bea9f",
   "metadata": {},
   "outputs": [
    {
     "name": "stdout",
     "output_type": "stream",
     "text": [
      "rewrite the cover letter to include the following job requirements WHERE APPLICABLE:\n"
     ]
    }
   ],
   "source": []
  },
  {
   "cell_type": "markdown",
   "id": "5681e44c",
   "metadata": {},
   "source": [
    "## Prompt for General Job Application"
   ]
  },
  {
   "cell_type": "code",
   "execution_count": null,
   "id": "363255f0",
   "metadata": {},
   "outputs": [],
   "source": [
    "j = open('datasets/Job_Requirements', 'w')\n",
    "j.write('Hello')\n",
    "j.close()\n",
    "\n",
    "j = open('datasets/Job_Requirements', 'r')\n",
    "job_req = j.read()"
   ]
  },
  {
   "cell_type": "code",
   "execution_count": 96,
   "id": "363a2ca4",
   "metadata": {},
   "outputs": [],
   "source": [
    "import streamlit as st\n",
    "\n",
    "company_name = st.text_input(\"Company Name: \", \"Aston Carter\")\n",
    "role = st.text_input(\"What role are you applying for? \", \"Business Systems Analyst (Insurance)- job post Aston Carter (part of Allegis Group) Portland, OR 97086\")\n",
    "contact_person = st.text_input(\"Who are you emailing? \", \"Technical Hiring Manager\")\n",
    "your_name = st.text_input(\"What is your name? \", \"Austin Rapp\")\n",
    "personal_exp = st.text_input(\"I have experience in...\", \"data cleansing, programming, statistical modeling, machine learning algorithms, programming, and databases. \")\n",
    "job_desc = st.text_input(\"I am excited about the job because...\", \"this role will allow me to work on technically challenging problems and create impactful solutions while working with an innovative team. \" )\n",
    "passion = st.text_input(\"I am passionate about...\", \"solving problems at the intersection of technology and social good. \")\n",
    "article =(\"Include something interesting from an article that recently involved the company. \")\n",
    "extra = ('Include ONLY one or two relevant items in the REQUIREMENT SECTION of the job posting and address them with items from RESUME \\n')\n",
    "submit_button = st.form_submit_button(label='Submit')\n",
    "\n",
    "prompt = (\"Write a cover letter with under 400 words addressed to the \" + contact_person + \" from \" + your_name +\" for a \" + role + \" job at \" + company_name +\".\" + \" I have experience in \" +personal_exp + \" I am excited about the job because \" +job_desc + \" I am passionate about \"+ passion + article + \"Include information as well as one quantified metric from the following resume:\" + extra + resume + job_req)"
   ]
  },
  {
   "cell_type": "code",
   "execution_count": 97,
   "id": "d06192bf",
   "metadata": {},
   "outputs": [
    {
     "data": {
      "text/plain": [
       "'Write a cover letter with under 400 words addressed to the Technical Hiring Manager from Austin Rapp for a Business Systems Analyst (Insurance)- job post Aston Carter (part of Allegis Group) Portland, OR 97086 job at Aston Carter. I have experience in data cleansing, programming, statistical modeling, machine learning algorithms, programming, and databases.  I am excited about the job because this role will allow me to work on technically challenging problems and create impactful solutions while working with an innovative team.  I am passionate about solving problems at the intersection of technology and social good. Include something interesting from an article that recently involved the company. Include information as well as one quantified metric from the following resume:Include ONLY one or two relevant items in the REQUIREMENT SECTION of the job posting and address them with items from RESUME \\n\\nSTART RESUME =\\n\\nObjective:\\nData scientist and Front-end Developer with a a problem solving focus on the development and use of applications. Using languages and programs to deliver solutions with a customer first approach. \\n\\nCan write programs  in the following languages and utilizing following  frameworks and tools:\\n\\n\\n LANGUAGES:\\nSQL\\nR\\nPython\\nHTML\\nJavascript\\nCSS\\n\\nFRAMEWORKS:\\nBootstrap\\nJquery\\nNode Js\\n\\nSOFTWARE TOOLS:\\nPowerBI\\nMicrosoftOS\\nGIS\\nTableau\\nTaleo\\n\\n\\nPROJECT EXPERIENCE:\\nElectronic Health Record System (EPIC) upgrade fix - lead on project for upgrade to prevent coding errors\\nDiscovered error that would lead to 10% increase in transcription errors and 25% decrease in turnaround for products. Created excel and word created docs that explained the problem.\\nTested IT created fix in an sandbox environment.\\nCreated operating procedure and led training for staff on new process. \\nPopulation Survey Database - determine  bird population feeding behavior\\nDeveloped experiment and hypothesis  surveys to gather information from different areas.\\nWrote program in  R  to create logic and plot data as well as Excel to plot data..\\nWrote a paper explaining my findings as a practice in science writing for Field Ecology. \\nWebsite Projects - promoting a concert tour and a local cinema\\nUtilizing Javascript, HTML Json, Jquery, and CSS created a website with features such as a rewards form to fill out, a navigation bar, slide show, and image gallery\\nCreated a website using only bootstrap that promoted a fictional local cinema.  \\n\\n\\nSOFTWARE EXPERIENCE\\nCoding bootcamp, the tech academy | portland, or\\nIntensive data science coding bootcamp focused on machine learning, data analysis, and visualization. .\\nAttending Meetup seminars to try and expand and hopefully assist with some projects.\\nHospital computing, cellnetix/ohsu | washington/oregon\\nI did data entry in EPIC entering patient data which could be easily be incorrect so this required a lot of care and attention to detail. I had to take a course to get certified for it.\\nI taught coworkers  how to navigate new features of programs, mainly Epic, and solve problems relating to doctorâ€™s orders, patient and health  info. \\nStreamlined quality control with Python.\\n\\n\\nOTHER EXPERIENCE:\\nMedical lab tech, cytogenetics - oregon health science university | nov 2021 â€“ mar  2023\\nImplemented a label process that reduced transcription errors by half. \\nLead change to chemical making procedure to increase volume and reduce prep time.\\nActively followed up with suppliers to reduce supply chain problems.\\nlab technical assistant, immunology - ohsu | aug 2019 â€“ nov 2021 \\nAs section safety officer conducted  safety trainings and audits.\\nActively consulted with external and internal customers to solve issues over phone and email to reduce chronic issues by half. \\nrecruitment coordinator, hr - robert half| mar 2018 - may 2019 \\nI did recruiting data entry using HRIS Taleo, utilized spreadsheets for stat tracking.\\nCollaborated with diverse set of  internal customers over phone and email. \\nlab assistant iii, surgical pathology - cellnetix | may 2015 - jan 2018 \\nI assisted customers via oral, email, and phone to navigate issues.\\nData entry of patient info, powerPath specimen info and  correct errors in Epic. \\n\\nVOLUNTEERING:\\nResearch assistant, osu oncology lab| aug 2010- june 2012\\nI assisted osteoclast research  using PCR, mainly made agarose gels.\\nResearch assistant, forest service | aug 2011- june 2012\\nI assisted bat and frog population surveys using GIS and Excel. \\nSeasonal ranger, park service | aug 2011- june 2012\\nI did entered permits electronically using the park database, greeted the public with and assisted with information on park information, nature education and safety.\\nBook sorter, friends of multnomah co library | jun 2019- june 2021\\n\\nEDUCATION:\\nb.s. degree - biology | graduated may 2013 | Ohio university\\nthe tech academy coding bootcamp, data science | Attending Feb 2023\\n\\n\\n\\n\\n'"
      ]
     },
     "execution_count": 97,
     "metadata": {},
     "output_type": "execute_result"
    }
   ],
   "source": [
    "prompt"
   ]
  },
  {
   "cell_type": "markdown",
   "id": "1858dc78",
   "metadata": {},
   "source": [
    "### Extras: Resume, Job Requirement section"
   ]
  },
  {
   "cell_type": "code",
   "execution_count": null,
   "id": "2af1526a",
   "metadata": {},
   "outputs": [],
   "source": [
    "JOB REQUIREMENT SECTION:"
   ]
  },
  {
   "attachments": {},
   "cell_type": "markdown",
   "id": "3375b1b9",
   "metadata": {},
   "source": [
    "## Choose a job title\n",
    "\n",
    "### Short List:\n",
    "Possible Job titles : Database Administrator. Business Systems Analyst. Junior Level, Midlevel. Software developer\n",
    "Full Stack Developer. Front end Developer. Ui Designer. Data Analyst. Devops(skills in software development and deploying products. Sales Engineer (answer sales manager questions about software). Technical Account Manager(dedicated client servicer). QA engineer. Customer Support Specialist (takes customer complaints) Also Desktop Support Specialist. Desktop Support Engineer(Similar to specialist but better title)\n",
    "\n",
    "### Longer list:\n",
    "- Full-stack Developer\n",
    "\n",
    "- Jr. Project Manager\n",
    "\n",
    "- Jr. Web Developer\n",
    "\n",
    "- C# Developer\n",
    "\n",
    "- App Developer\n",
    "\n",
    "- Web Developer\n",
    "\n",
    "- Web Designer/Developer\n",
    "\n",
    "- Associate Technical Support\n",
    "\n",
    "- Junior Developer\n",
    "\n",
    "- Junior Software Developer\n",
    "\n",
    "- Project Manager\n",
    "\n",
    "- Java Developer\n",
    "\n",
    "- Technical Support Representative\n",
    "\n",
    "- Software Developer\n",
    "\n",
    "- Software Engineer\n",
    "\n",
    "- Associate Software Developer\n",
    "\n",
    "- Retail IT Support (Tech Support)\n",
    "\n",
    "- Support Agent\n",
    "\n",
    "- Salesforce Developer\n",
    "\n",
    "- Associate Analyst\n",
    "\n",
    "- Data Analytics Intern\n",
    "\n",
    "- Junior Data Analyst\n",
    "\n",
    "- Systems Analyst\n",
    "\n",
    "- Clinical Systems Analyst\n",
    "\n",
    "- Technical Support Engineer (TSE)\n",
    "\n",
    "- Associate Technology Support\n",
    "\n",
    "- Associate Technical Support Engineer\n",
    "\n",
    "- Back-End .NET Web Developer\n",
    "\n",
    "- PT Software Developer\n",
    "\n",
    "- Full-Stack Developer Intern\n",
    "\n",
    "- Software Quality Assurance\n",
    "\n",
    "- Software Quality Assurance Engineer\n",
    "\n",
    "- QA Lead- Internal Software Division\n",
    "\n",
    "- QA Engineer in C#\n",
    "\n",
    "- Landing Page Developer\n",
    "\n",
    "- Resolution Services Analyst\n",
    "\n",
    "- Marketing Coordinator/Sales Representative\n",
    "\n",
    "- Implementation Support Analyst\n",
    "\n",
    "- Machine Learning Apprentice\n",
    "\n",
    "- Sales Engineer\n",
    "\n",
    "- SCCM Engineer\n",
    "\n",
    "- Director of Engineering / Quality Assurance\n",
    "\n",
    "- Business Intelligence Developer\n",
    "\n",
    "- Data Scientist\n",
    "\n",
    "- Cyber Security Professional\n",
    "\n",
    "- Cyber Security Analyst\n",
    "\n",
    "- Game Developer\n",
    "\n",
    "- React Developer\n",
    "\n",
    "- Android Developer\n",
    "\n",
    "- iOS Developer\n",
    "\n",
    "- Native React Developer"
   ]
  },
  {
   "cell_type": "markdown",
   "id": "b721e4d4",
   "metadata": {},
   "source": [
    "### Linkedin Messaging"
   ]
  },
  {
   "cell_type": "raw",
   "id": "a0225171",
   "metadata": {},
   "source": [
    "in 30 words write a message that grabs a managers attention, says something like how I can increase their value and that I'd like to talk with them"
   ]
  },
  {
   "cell_type": "raw",
   "id": "f448a5fb",
   "metadata": {},
   "source": [
    "\n",
    "\"Hello [Manager's Name], I noticed your recent role as [Job Role] and believe my skills in [relevant skills]\n",
    "can contribute to further elevating your team's success. Let's connect and\n",
    "explore opportunities to maximize value together.\""
   ]
  },
  {
   "cell_type": "markdown",
   "id": "8df5ab71",
   "metadata": {},
   "source": [
    "## Prompt for Government Job"
   ]
  },
  {
   "cell_type": "code",
   "execution_count": 13,
   "id": "8600dd45",
   "metadata": {},
   "outputs": [],
   "source": [
    "j = open('datasets/Job_Requirements', 'w')\n",
    "j.write('''Experience with health survey research, health outcomes research, health care delivery systems research, or experience using health care expenditure, utilization and quality assurance data.\n",
    "Experience in producing executive summaries and fact sheets.\n",
    "Experience with data management and statistical software, such as SPSS, SAS, Business Objects. preferably SAS and GIS, and programming languages preferably SQL.\n",
    "Experience with UNIX shell scripting.\n",
    "Experience and knowledge of Medicaid programs, medical billing, healthcare billing and terminology.\n",
    "Strong communication skills: listening, interpersonal, written, and verbally with a variety of people answering questions and gathering and exchanging information.\n",
    "Skill in planning work efficiently and exercising independent judgment in making appropriate decisions concerning work planning and work methods.\n",
    "Experience with Analytical/ Data Visualization software tools such as Tableau and/or Power BI, and data visualization techniques.''')\n",
    "j.close()\n",
    "\n",
    "j = open('datasets/Job_Requirements', 'r')\n",
    "job_req = j.read()"
   ]
  },
  {
   "cell_type": "code",
   "execution_count": 20,
   "id": "65209b48",
   "metadata": {},
   "outputs": [],
   "source": [
    "import streamlit as st\n",
    "\n",
    "company_name = st.text_input(\"Government Body: \", \"OHA\")\n",
    "role = st.text_input(\"What role are you applying for? \", '''Research Analyst - Research Analyst 4\n",
    "remote type\n",
    "Fully Remote or Hybrid Work Optional\n",
    "locations\n",
    "Salem''')\n",
    "contact_person = st.text_input(\"Who are you emailing? \", \"Technical Hiring Manager\")\n",
    "your_name = st.text_input(\"What is your name? \", \"Austin Rapp\")\n",
    "personal_exp = st.text_input(\"I have experience in...\", \"data visualisation, programming, statistical modeling, and machine learning algorithms. \")\n",
    "job_desc = st.text_input(\"I am excited about the job because...\", \"this role will allow me to work on technically challenging problems and create impactful solutions while working with an innovative team. \" )\n",
    "passion = st.text_input(\"I am passionate about...\", \"solving problems at the intersection of technology and social good. \")\n",
    "article =(\"Include something interesting from a news article that recently involved the organization(try to get something close to the job role). \")\n",
    "extra = ('Address ALL requirements in the JOB REQUIREMENTS: section below using information extracted from the RESUME \\n')\n",
    "manager = ('Attempt to find the hiring manager using resources like LinkedIn if possible and insert into the \"Technical Hiring Manager\" are. If not just write: Technical Hiring Manager')\n",
    "\n",
    "prompt = (\"Write a cover letter  addressed to the \" + contact_person + \" from \" + your_name +\" for a \" + role + \" job at \" + company_name +\".\" + \" I have experience in \" +personal_exp + \" I am excited about the job because \" +job_desc + \" I am passionate about \"+ passion + article + \"Include information as well as one quantified metric from the following resume:\" + extra + resume + job_req)"
   ]
  },
  {
   "cell_type": "code",
   "execution_count": 21,
   "id": "3eb15507",
   "metadata": {},
   "outputs": [
    {
     "data": {
      "text/plain": [
       "'Write a cover letter  addressed to the Technical Hiring Manager from Austin Rapp for a Research Analyst - Research Analyst 4\\nremote type\\nFully Remote or Hybrid Work Optional\\nlocations\\nSalem job at OHA. I have experience in data visualisation, programming, statistical modeling, and machine learning algorithms.  I am excited about the job because this role will allow me to work on technically challenging problems and create impactful solutions while working with an innovative team.  I am passionate about solving problems at the intersection of technology and social good. Include something interesting from a news article that recently involved the organization(try to get something close to the job role). Include information as well as one quantified metric from the following resume:Address ALL requirements in the JOB REQUIREMENTS: section below using information extracted from the RESUME \\n\\nSTART RESUME =\\n\\nObjective:\\nData scientist and Front-end Developer with a a problem solving focus on the development and use of applications. Using languages and programs to deliver solutions with a customer first approach. \\n\\nCan write programs  in the following languages and utilizing following  frameworks and tools:\\n\\n\\n LANGUAGES:\\nSQL\\nR\\nPython\\nHTML\\nJavascript\\nCSS\\n\\nFRAMEWORKS:\\nBootstrap\\nJquery\\nNode Js\\n\\nSOFTWARE TOOLS:\\nPowerBI\\nMicrosoftOS\\nGIS\\nTableau\\nTaleo\\n\\n\\nPROJECT EXPERIENCE:\\nElectronic Health Record System (EPIC) upgrade fix - lead on project for upgrade to prevent coding errors\\nDiscovered error that would lead to 10% increase in transcription errors and 25% decrease in turnaround for products. Created excel and word created docs that explained the problem.\\nTested IT created fix in an sandbox environment.\\nCreated operating procedure and led training for staff on new process. \\nPopulation Survey Database - determine  bird population feeding behavior\\nDeveloped experiment and hypothesis  surveys to gather information from different areas.\\nWrote program in  R  to create logic and plot data as well as Excel to plot data..\\nWrote a paper explaining my findings as a practice in science writing for Field Ecology. \\nWebsite Projects - promoting a concert tour and a local cinema\\nUtilizing Javascript, HTML Json, Jquery, and CSS created a website with features such as a rewards form to fill out, a navigation bar, slide show, and image gallery\\nCreated a website using only bootstrap that promoted a fictional local cinema.  \\n\\n\\nSOFTWARE EXPERIENCE\\nCoding bootcamp, the tech academy | portland, or\\nIntensive data science coding bootcamp focused on machine learning, data analysis, and visualization. .\\nAttending Meetup seminars to try and expand and hopefully assist with some projects.\\nHospital computing, cellnetix/ohsu | washington/oregon\\nI did data entry in EPIC entering patient data which could be easily be incorrect so this required a lot of care and attention to detail. I had to take a course to get certified for it.\\nI taught coworkers  how to navigate new features of programs, mainly Epic, and solve problems relating to doctorâ€™s orders, patient and health  info. \\nStreamlined quality control with Python.\\n\\n\\nOTHER EXPERIENCE:\\nMedical lab tech, cytogenetics - oregon health science university | nov 2021 â€“ mar  2023\\nImplemented a label process that reduced transcription errors by half. \\nLead change to chemical making procedure to increase volume and reduce prep time.\\nActively followed up with suppliers to reduce supply chain problems.\\nlab technical assistant, immunology - ohsu | aug 2019 â€“ nov 2021 \\nAs section safety officer conducted  safety trainings and audits.\\nActively consulted with external and internal customers to solve issues over phone and email to reduce chronic issues by half. \\nrecruitment coordinator, hr - robert half| mar 2018 - may 2019 \\nI did recruiting data entry using HRIS Taleo, utilized spreadsheets for stat tracking.\\nCollaborated with diverse set of  internal customers over phone and email. \\nlab assistant iii, surgical pathology - cellnetix | may 2015 - jan 2018 \\nI assisted customers via oral, email, and phone to navigate issues.\\nData entry of patient info, powerPath specimen info and  correct errors in Epic. \\n\\nVOLUNTEERING:\\nResearch assistant, osu oncology lab| aug 2010- june 2012\\nI assisted osteoclast research  using PCR, mainly made agarose gels.\\nResearch assistant, forest service | aug 2011- june 2012\\nI assisted bat and frog population surveys using GIS and Excel. \\nSeasonal ranger, park service | aug 2011- june 2012\\nI did entered permits electronically using the park database, greeted the public with and assisted with information on park information, nature education and safety.\\nBook sorter, friends of multnomah co library | jun 2019- june 2021\\n\\nEDUCATION:\\nb.s. degree - biology | graduated may 2013 | Ohio university\\nthe tech academy coding bootcamp, data science | Attending Feb 2023\\n\\n\\n\\n\\nExperience with health survey research, health outcomes research, health care delivery systems research, or experience using health care expenditure, utilization and quality assurance data.\\nExperience in producing executive summaries and fact sheets.\\nExperience with data management and statistical software, such as SPSS, SAS, Business Objects. preferably SAS and GIS, and programming languages preferably SQL.\\nExperience with UNIX shell scripting.\\nExperience and knowledge of Medicaid programs, medical billing, healthcare billing and terminology.\\nStrong communication skills: listening, interpersonal, written, and verbally with a variety of people answering questions and gathering and exchanging information.\\nSkill in planning work efficiently and exercising independent judgment in making appropriate decisions concerning work planning and work methods.\\nExperience with Analytical/ Data Visualization software tools such as Tableau and/or Power BI, and data visualization techniques.Attempt to find the hiring manager using resources like LinkedIn if possible and insert into the \"Technical Hiring Manager\" are. If not just write: Technical Hiring Manager'"
      ]
     },
     "execution_count": 21,
     "metadata": {},
     "output_type": "execute_result"
    }
   ],
   "source": [
    "prompt"
   ]
  },
  {
   "cell_type": "markdown",
   "id": "d1ceaafd",
   "metadata": {},
   "source": [
    "## Meetup Notes"
   ]
  },
  {
   "attachments": {},
   "cell_type": "markdown",
   "id": "cdb7a4c2",
   "metadata": {},
   "source": [
    "Meetups:\n",
    "    \n",
    "    - go in with a goal- meet everyone there(say lookin for X role)\n",
    "    - business cards\n",
    "    - remember names- write notes on their business cards or notebook about them\n",
    "    do after meetup when memories fresh\n",
    "    - follow up: \n",
    "        - For example: You can send them an interesting link relevant to \n",
    "            your conversation, let them know how a piece of advice they gave\n",
    "            you helped you out. Just mentioning what you were discussing could\n",
    "            be helpful to jog the recipient’s memory, but try to contribute\n",
    "            something to the conversation. If you’re looking for a job, send\n",
    "            them your resume."
   ]
  },
  {
   "attachments": {},
   "cell_type": "markdown",
   "id": "34d9d089",
   "metadata": {},
   "source": [
    "### Resume Notes\n",
    "\n",
    "5 parts of resume: Top heading, skills summary (near the top. Skills are king), experience summary, experience, education\n",
    "\n",
    "#### Skills summary is broken up into 9 categories: \n",
    "programming/development: languages, operating systems, frameworks, archtectural paradigms (software achitecture- api's), business domains (special area's worked in such as healthcare or finance), ide's(visualstudio, notepad++ not an ide), methodologies(scrum, agile), databases (SQL server, mySQL), experience summary (this is HEADLINE of achievements. - quickly shows what you have done with those skills)\n",
    "\n",
    "- Alt titles for experience summary is: coding projects, coding experience, programming experience\n",
    "- recommended bullet points\n",
    "- 4 to 7 bullet points of no more than two lines each\n",
    "- ex of successful format: \n",
    "    - Technology used listed in BOLD. \n",
    "    - A dash or colon and then the experience or use of that technology listed\n",
    "    - Take it a step further and each one can be linked to Github site - gives opportunity for employer to go to code and see for themselves\n",
    "\n",
    "#### Below Experience summary is EXPERIENCE\n"
   ]
  }
 ],
 "metadata": {
  "kernelspec": {
   "display_name": "Python 3 (ipykernel)",
   "language": "python",
   "name": "python3"
  },
  "language_info": {
   "codemirror_mode": {
    "name": "ipython",
    "version": 3
   },
   "file_extension": ".py",
   "mimetype": "text/x-python",
   "name": "python",
   "nbconvert_exporter": "python",
   "pygments_lexer": "ipython3",
   "version": "3.10.9"
  }
 },
 "nbformat": 4,
 "nbformat_minor": 5
}
