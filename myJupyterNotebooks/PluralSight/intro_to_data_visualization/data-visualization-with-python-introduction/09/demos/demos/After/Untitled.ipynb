{
 "cells": [
  {
   "cell_type": "code",
   "execution_count": 1,
   "id": "8f9c1a11",
   "metadata": {},
   "outputs": [],
   "source": [
    "import pandas as pd\n",
    "from matplotlib import pyplot as plt"
   ]
  },
  {
   "cell_type": "code",
   "execution_count": 2,
   "id": "d4b56e22",
   "metadata": {},
   "outputs": [],
   "source": [
    "data = pd.read_csv('countries.csv')"
   ]
  },
  {
   "cell_type": "code",
   "execution_count": 3,
   "id": "6149d0aa",
   "metadata": {},
   "outputs": [
    {
     "data": {
      "text/html": [
       "<div>\n",
       "<style scoped>\n",
       "    .dataframe tbody tr th:only-of-type {\n",
       "        vertical-align: middle;\n",
       "    }\n",
       "\n",
       "    .dataframe tbody tr th {\n",
       "        vertical-align: top;\n",
       "    }\n",
       "\n",
       "    .dataframe thead th {\n",
       "        text-align: right;\n",
       "    }\n",
       "</style>\n",
       "<table border=\"1\" class=\"dataframe\">\n",
       "  <thead>\n",
       "    <tr style=\"text-align: right;\">\n",
       "      <th></th>\n",
       "      <th>country</th>\n",
       "      <th>continent</th>\n",
       "      <th>year</th>\n",
       "      <th>lifeExpectancy</th>\n",
       "      <th>population</th>\n",
       "      <th>gdpPerCapita</th>\n",
       "    </tr>\n",
       "  </thead>\n",
       "  <tbody>\n",
       "    <tr>\n",
       "      <th>0</th>\n",
       "      <td>Afghanistan</td>\n",
       "      <td>Asia</td>\n",
       "      <td>1952</td>\n",
       "      <td>28.801</td>\n",
       "      <td>8425333</td>\n",
       "      <td>779.445314</td>\n",
       "    </tr>\n",
       "    <tr>\n",
       "      <th>1</th>\n",
       "      <td>Afghanistan</td>\n",
       "      <td>Asia</td>\n",
       "      <td>1957</td>\n",
       "      <td>30.332</td>\n",
       "      <td>9240934</td>\n",
       "      <td>820.853030</td>\n",
       "    </tr>\n",
       "    <tr>\n",
       "      <th>2</th>\n",
       "      <td>Afghanistan</td>\n",
       "      <td>Asia</td>\n",
       "      <td>1962</td>\n",
       "      <td>31.997</td>\n",
       "      <td>10267083</td>\n",
       "      <td>853.100710</td>\n",
       "    </tr>\n",
       "    <tr>\n",
       "      <th>3</th>\n",
       "      <td>Afghanistan</td>\n",
       "      <td>Asia</td>\n",
       "      <td>1967</td>\n",
       "      <td>34.020</td>\n",
       "      <td>11537966</td>\n",
       "      <td>836.197138</td>\n",
       "    </tr>\n",
       "    <tr>\n",
       "      <th>4</th>\n",
       "      <td>Afghanistan</td>\n",
       "      <td>Asia</td>\n",
       "      <td>1972</td>\n",
       "      <td>36.088</td>\n",
       "      <td>13079460</td>\n",
       "      <td>739.981106</td>\n",
       "    </tr>\n",
       "  </tbody>\n",
       "</table>\n",
       "</div>"
      ],
      "text/plain": [
       "       country continent  year  lifeExpectancy  population  gdpPerCapita\n",
       "0  Afghanistan      Asia  1952          28.801     8425333    779.445314\n",
       "1  Afghanistan      Asia  1957          30.332     9240934    820.853030\n",
       "2  Afghanistan      Asia  1962          31.997    10267083    853.100710\n",
       "3  Afghanistan      Asia  1967          34.020    11537966    836.197138\n",
       "4  Afghanistan      Asia  1972          36.088    13079460    739.981106"
      ]
     },
     "execution_count": 3,
     "metadata": {},
     "output_type": "execute_result"
    }
   ],
   "source": [
    "##Which country resembles the U.S. the most? \n",
    "data.head()"
   ]
  },
  {
   "cell_type": "code",
   "execution_count": 18,
   "id": "84b2e26c",
   "metadata": {},
   "outputs": [],
   "source": [
    "us = data[data.country == 'United States']"
   ]
  },
  {
   "cell_type": "code",
   "execution_count": 9,
   "id": "17bb82e5",
   "metadata": {},
   "outputs": [
    {
     "name": "stderr",
     "output_type": "stream",
     "text": [
      "C:\\Users\\aerap\\AppData\\Local\\Temp\\ipykernel_19908\\1073211712.py:1: FutureWarning: The default value of numeric_only in DataFrame.mean is deprecated. In a future version, it will default to False. In addition, specifying 'numeric_only=None' is deprecated. Select only valid columns or specify the value of numeric_only to silence this warning.\n",
      "  us.mean()\n"
     ]
    },
    {
     "data": {
      "text/plain": [
       "year              1.979500e+03\n",
       "lifeExpectancy    7.347850e+01\n",
       "population        2.282112e+08\n",
       "gdpPerCapita      2.626115e+04\n",
       "dtype: float64"
      ]
     },
     "execution_count": 9,
     "metadata": {},
     "output_type": "execute_result"
    }
   ],
   "source": [
    "us.mean()"
   ]
  },
  {
   "cell_type": "code",
   "execution_count": 35,
   "id": "ded0fb04",
   "metadata": {},
   "outputs": [
    {
     "name": "stderr",
     "output_type": "stream",
     "text": [
      "C:\\Users\\aerap\\AppData\\Local\\Temp\\ipykernel_19908\\1122570598.py:1: FutureWarning: The default value of numeric_only in DataFrameGroupBy.mean is deprecated. In a future version, numeric_only will default to False. Either specify numeric_only or select only columns which should be valid for the function.\n",
      "  data_country = data.groupby(['country']).mean()\n"
     ]
    },
    {
     "data": {
      "text/html": [
       "<div>\n",
       "<style scoped>\n",
       "    .dataframe tbody tr th:only-of-type {\n",
       "        vertical-align: middle;\n",
       "    }\n",
       "\n",
       "    .dataframe tbody tr th {\n",
       "        vertical-align: top;\n",
       "    }\n",
       "\n",
       "    .dataframe thead th {\n",
       "        text-align: right;\n",
       "    }\n",
       "</style>\n",
       "<table border=\"1\" class=\"dataframe\">\n",
       "  <thead>\n",
       "    <tr style=\"text-align: right;\">\n",
       "      <th></th>\n",
       "      <th>year</th>\n",
       "      <th>lifeExpectancy</th>\n",
       "      <th>population</th>\n",
       "      <th>gdpPerCapita</th>\n",
       "    </tr>\n",
       "    <tr>\n",
       "      <th>country</th>\n",
       "      <th></th>\n",
       "      <th></th>\n",
       "      <th></th>\n",
       "      <th></th>\n",
       "    </tr>\n",
       "  </thead>\n",
       "  <tbody>\n",
       "    <tr>\n",
       "      <th>Iceland</th>\n",
       "      <td>1979.5</td>\n",
       "      <td>76.511417</td>\n",
       "      <td>2.269781e+05</td>\n",
       "      <td>20531.422272</td>\n",
       "    </tr>\n",
       "    <tr>\n",
       "      <th>Sweden</th>\n",
       "      <td>1979.5</td>\n",
       "      <td>76.177000</td>\n",
       "      <td>8.220029e+06</td>\n",
       "      <td>19943.126104</td>\n",
       "    </tr>\n",
       "    <tr>\n",
       "      <th>Norway</th>\n",
       "      <td>1979.5</td>\n",
       "      <td>75.843000</td>\n",
       "      <td>4.031441e+06</td>\n",
       "      <td>26747.306554</td>\n",
       "    </tr>\n",
       "    <tr>\n",
       "      <th>Netherlands</th>\n",
       "      <td>1979.5</td>\n",
       "      <td>75.648500</td>\n",
       "      <td>1.378680e+07</td>\n",
       "      <td>21748.852208</td>\n",
       "    </tr>\n",
       "    <tr>\n",
       "      <th>Switzerland</th>\n",
       "      <td>1979.5</td>\n",
       "      <td>75.565083</td>\n",
       "      <td>6.384293e+06</td>\n",
       "      <td>27074.334405</td>\n",
       "    </tr>\n",
       "    <tr>\n",
       "      <th>Canada</th>\n",
       "      <td>1979.5</td>\n",
       "      <td>74.902750</td>\n",
       "      <td>2.446297e+07</td>\n",
       "      <td>22410.746340</td>\n",
       "    </tr>\n",
       "    <tr>\n",
       "      <th>Japan</th>\n",
       "      <td>1979.5</td>\n",
       "      <td>74.826917</td>\n",
       "      <td>1.117588e+08</td>\n",
       "      <td>17750.869984</td>\n",
       "    </tr>\n",
       "    <tr>\n",
       "      <th>Australia</th>\n",
       "      <td>1979.5</td>\n",
       "      <td>74.662917</td>\n",
       "      <td>1.464931e+07</td>\n",
       "      <td>19980.595634</td>\n",
       "    </tr>\n",
       "    <tr>\n",
       "      <th>Denmark</th>\n",
       "      <td>1979.5</td>\n",
       "      <td>74.370167</td>\n",
       "      <td>4.994187e+06</td>\n",
       "      <td>21671.824888</td>\n",
       "    </tr>\n",
       "    <tr>\n",
       "      <th>France</th>\n",
       "      <td>1979.5</td>\n",
       "      <td>74.348917</td>\n",
       "      <td>5.295256e+07</td>\n",
       "      <td>18833.570327</td>\n",
       "    </tr>\n",
       "    <tr>\n",
       "      <th>Spain</th>\n",
       "      <td>1979.5</td>\n",
       "      <td>74.203417</td>\n",
       "      <td>3.585180e+07</td>\n",
       "      <td>14029.826479</td>\n",
       "    </tr>\n",
       "    <tr>\n",
       "      <th>Italy</th>\n",
       "      <td>1979.5</td>\n",
       "      <td>74.013833</td>\n",
       "      <td>5.453696e+07</td>\n",
       "      <td>16245.209006</td>\n",
       "    </tr>\n",
       "    <tr>\n",
       "      <th>New Zealand</th>\n",
       "      <td>1979.5</td>\n",
       "      <td>73.989500</td>\n",
       "      <td>3.100032e+06</td>\n",
       "      <td>17262.622813</td>\n",
       "    </tr>\n",
       "    <tr>\n",
       "      <th>United Kingdom</th>\n",
       "      <td>1979.5</td>\n",
       "      <td>73.922583</td>\n",
       "      <td>5.608780e+07</td>\n",
       "      <td>19380.472986</td>\n",
       "    </tr>\n",
       "    <tr>\n",
       "      <th>Greece</th>\n",
       "      <td>1979.5</td>\n",
       "      <td>73.733167</td>\n",
       "      <td>9.424181e+06</td>\n",
       "      <td>13969.036833</td>\n",
       "    </tr>\n",
       "    <tr>\n",
       "      <th>Israel</th>\n",
       "      <td>1979.5</td>\n",
       "      <td>73.645833</td>\n",
       "      <td>3.845611e+06</td>\n",
       "      <td>14160.936434</td>\n",
       "    </tr>\n",
       "    <tr>\n",
       "      <th>Belgium</th>\n",
       "      <td>1979.5</td>\n",
       "      <td>73.641750</td>\n",
       "      <td>9.725119e+06</td>\n",
       "      <td>19900.758072</td>\n",
       "    </tr>\n",
       "    <tr>\n",
       "      <th>Hong Kong, China</th>\n",
       "      <td>1979.5</td>\n",
       "      <td>73.492833</td>\n",
       "      <td>4.792259e+06</td>\n",
       "      <td>16228.700865</td>\n",
       "    </tr>\n",
       "    <tr>\n",
       "      <th>United States</th>\n",
       "      <td>1979.5</td>\n",
       "      <td>73.478500</td>\n",
       "      <td>2.282112e+08</td>\n",
       "      <td>26261.151347</td>\n",
       "    </tr>\n",
       "  </tbody>\n",
       "</table>\n",
       "</div>"
      ],
      "text/plain": [
       "                    year  lifeExpectancy    population  gdpPerCapita\n",
       "country                                                             \n",
       "Iceland           1979.5       76.511417  2.269781e+05  20531.422272\n",
       "Sweden            1979.5       76.177000  8.220029e+06  19943.126104\n",
       "Norway            1979.5       75.843000  4.031441e+06  26747.306554\n",
       "Netherlands       1979.5       75.648500  1.378680e+07  21748.852208\n",
       "Switzerland       1979.5       75.565083  6.384293e+06  27074.334405\n",
       "Canada            1979.5       74.902750  2.446297e+07  22410.746340\n",
       "Japan             1979.5       74.826917  1.117588e+08  17750.869984\n",
       "Australia         1979.5       74.662917  1.464931e+07  19980.595634\n",
       "Denmark           1979.5       74.370167  4.994187e+06  21671.824888\n",
       "France            1979.5       74.348917  5.295256e+07  18833.570327\n",
       "Spain             1979.5       74.203417  3.585180e+07  14029.826479\n",
       "Italy             1979.5       74.013833  5.453696e+07  16245.209006\n",
       "New Zealand       1979.5       73.989500  3.100032e+06  17262.622813\n",
       "United Kingdom    1979.5       73.922583  5.608780e+07  19380.472986\n",
       "Greece            1979.5       73.733167  9.424181e+06  13969.036833\n",
       "Israel            1979.5       73.645833  3.845611e+06  14160.936434\n",
       "Belgium           1979.5       73.641750  9.725119e+06  19900.758072\n",
       "Hong Kong, China  1979.5       73.492833  4.792259e+06  16228.700865\n",
       "United States     1979.5       73.478500  2.282112e+08  26261.151347"
      ]
     },
     "execution_count": 35,
     "metadata": {},
     "output_type": "execute_result"
    }
   ],
   "source": [
    "data_country = data.groupby(['country']).mean()\n",
    "data_NearUS_pop = data_country[data_country.lifeExpectancy >= 7.347850e+01]\n",
    "data_NearUS_pop.sort_values('lifeExpectancy', ascending = False)"
   ]
  },
  {
   "cell_type": "code",
   "execution_count": 36,
   "id": "084bd098",
   "metadata": {},
   "outputs": [],
   "source": [
    "hongkong = data[data.country == 'Hong Kong, China']"
   ]
  },
  {
   "cell_type": "code",
   "execution_count": null,
   "id": "536b119a",
   "metadata": {},
   "outputs": [],
   "source": [
    "plt.plot(us.year, us.lifeExpectancy)\n",
    "plt.plot(hongkong.year, hongkong.lifeExpectancy)\n",
    "plt.legend(['United States', 'Hong Kong'])\n",
    "plt.show()"
   ]
  },
  {
   "cell_type": "code",
   "execution_count": 38,
   "id": "f19aadd2",
   "metadata": {},
   "outputs": [
    {
     "data": {
      "image/png": "[encoded data removed]",
      "text/plain": [
       "<Figure size 640x480 with 1 Axes>"
      ]
     },
     "metadata": {},
     "output_type": "display_data"
    }
   ],
   "source": [
    "plt.plot(us.year, us.lifeExpectancy)\n",
    "plt.plot(hongkong.year, hongkong.lifeExpectancy)\n",
    "plt.legend(['United States', 'Hong Kong'])\n",
    "plt.show()"
   ]
  },
  {
   "cell_type": "markdown",
   "id": "d9266fec",
   "metadata": {},
   "source": [
    "## Hong Kong and U.S. though having similar mean life expectancies differ signifigantly in more recent reports of life expectancy"
   ]
  },
  {
   "cell_type": "code",
   "execution_count": null,
   "id": "5fba44d4",
   "metadata": {},
   "outputs": [],
   "source": []
  }
 ],
 "metadata": {
  "kernelspec": {
   "display_name": "Python 3 (ipykernel)",
   "language": "python",
   "name": "python3"
  },
  "language_info": {
   "codemirror_mode": {
    "name": "ipython",
    "version": 3
   },
   "file_extension": ".py",
   "mimetype": "text/x-python",
   "name": "python",
   "nbconvert_exporter": "python",
   "pygments_lexer": "ipython3",
   "version": "3.10.9"
  }
 },
 "nbformat": 4,
 "nbformat_minor": 5
}
