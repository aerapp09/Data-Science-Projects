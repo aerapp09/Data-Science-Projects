{
 "cells": [
  {
   "cell_type": "code",
   "execution_count": 1,
   "id": "57af93fd",
   "metadata": {},
   "outputs": [],
   "source": [
    "import pandas as pd"
   ]
  },
  {
   "cell_type": "code",
   "execution_count": 2,
   "id": "edebf855",
   "metadata": {},
   "outputs": [],
   "source": [
    "data = {\n",
    "    'cats':[3,5,3,2],\n",
    "    'dogs':[5,3,8,4]\n",
    "}"
   ]
  },
  {
   "cell_type": "code",
   "execution_count": 3,
   "id": "325defa3",
   "metadata": {},
   "outputs": [
    {
     "data": {
      "text/html": [
       "<div>\n",
       "<style scoped>\n",
       "    .dataframe tbody tr th:only-of-type {\n",
       "        vertical-align: middle;\n",
       "    }\n",
       "\n",
       "    .dataframe tbody tr th {\n",
       "        vertical-align: top;\n",
       "    }\n",
       "\n",
       "    .dataframe thead th {\n",
       "        text-align: right;\n",
       "    }\n",
       "</style>\n",
       "<table border=\"1\" class=\"dataframe\">\n",
       "  <thead>\n",
       "    <tr style=\"text-align: right;\">\n",
       "      <th></th>\n",
       "      <th>cats</th>\n",
       "      <th>dogs</th>\n",
       "    </tr>\n",
       "  </thead>\n",
       "  <tbody>\n",
       "    <tr>\n",
       "      <th>0</th>\n",
       "      <td>3</td>\n",
       "      <td>5</td>\n",
       "    </tr>\n",
       "    <tr>\n",
       "      <th>1</th>\n",
       "      <td>5</td>\n",
       "      <td>3</td>\n",
       "    </tr>\n",
       "    <tr>\n",
       "      <th>2</th>\n",
       "      <td>3</td>\n",
       "      <td>8</td>\n",
       "    </tr>\n",
       "    <tr>\n",
       "      <th>3</th>\n",
       "      <td>2</td>\n",
       "      <td>4</td>\n",
       "    </tr>\n",
       "  </tbody>\n",
       "</table>\n",
       "</div>"
      ],
      "text/plain": [
       "   cats  dogs\n",
       "0     3     5\n",
       "1     5     3\n",
       "2     3     8\n",
       "3     2     4"
      ]
     },
     "execution_count": 3,
     "metadata": {},
     "output_type": "execute_result"
    }
   ],
   "source": [
    "listView = pd.DataFrame(data)\n",
    "\n",
    "listView #we can print a dataframe by simply typing its name"
   ]
  },
  {
   "cell_type": "code",
   "execution_count": 4,
   "id": "229bcb6d",
   "metadata": {},
   "outputs": [],
   "source": [
    "import random"
   ]
  },
  {
   "cell_type": "code",
   "execution_count": 5,
   "id": "23adc001",
   "metadata": {},
   "outputs": [],
   "source": [
    "random.seed(5)"
   ]
  },
  {
   "cell_type": "code",
   "execution_count": 6,
   "id": "65b33375",
   "metadata": {},
   "outputs": [
    {
     "name": "stdout",
     "output_type": "stream",
     "text": [
      "319\n"
     ]
    }
   ],
   "source": [
    "print(random.randint(1,500))"
   ]
  },
  {
   "cell_type": "code",
   "execution_count": 7,
   "id": "3ef6073c",
   "metadata": {},
   "outputs": [
    {
     "name": "stdout",
     "output_type": "stream",
     "text": [
      "131\n"
     ]
    }
   ],
   "source": [
    "print(random.randint(1,500))"
   ]
  },
  {
   "cell_type": "code",
   "execution_count": 8,
   "id": "099daf15",
   "metadata": {},
   "outputs": [
    {
     "name": "stdout",
     "output_type": "stream",
     "text": [
      "319\n"
     ]
    }
   ],
   "source": [
    "random.seed(5)\n",
    "print(random.randint(1,500))"
   ]
  },
  {
   "cell_type": "code",
   "execution_count": 9,
   "id": "7c6045ad",
   "metadata": {},
   "outputs": [
    {
     "name": "stdout",
     "output_type": "stream",
     "text": [
      "160\n",
      "122\n",
      "160\n",
      "122\n",
      "160\n",
      "122\n",
      "160\n",
      "122\n",
      "160\n",
      "122\n",
      "160\n",
      "122\n"
     ]
    }
   ],
   "source": [
    "for i in range (6):\n",
    "    random.seed(5)\n",
    "    print(random.randint(1,200))\n",
    "    random.seed(3)\n",
    "    print(random.randint(1, 300))"
   ]
  },
  {
   "cell_type": "code",
   "execution_count": 10,
   "id": "6645c7ff",
   "metadata": {},
   "outputs": [
    {
     "name": "stdout",
     "output_type": "stream",
     "text": [
      "121\n",
      "29\n",
      "121\n",
      "29\n",
      "121\n",
      "29\n",
      "121\n",
      "29\n",
      "121\n",
      "29\n",
      "121\n",
      "29\n",
      "121\n",
      "29\n"
     ]
    }
   ],
   "source": [
    "for i in range (7):\n",
    "    random.seed(4)\n",
    "    print(random.randint(1,300))\n",
    "    random.seed(2)\n",
    "    print(random.randint(1, 400))"
   ]
  },
  {
   "cell_type": "code",
   "execution_count": null,
   "id": "cc8fe8d7",
   "metadata": {},
   "outputs": [],
   "source": []
  }
 ],
 "metadata": {
  "kernelspec": {
   "display_name": "Python 3 (ipykernel)",
   "language": "python",
   "name": "python3"
  },
  "language_info": {
   "codemirror_mode": {
    "name": "ipython",
    "version": 3
   },
   "file_extension": ".py",
   "mimetype": "text/x-python",
   "name": "python",
   "nbconvert_exporter": "python",
   "pygments_lexer": "ipython3",
   "version": "3.10.9"
  }
 },
 "nbformat": 4,
 "nbformat_minor": 5
}
